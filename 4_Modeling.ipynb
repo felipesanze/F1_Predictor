{
 "cells": [
  {
   "cell_type": "markdown",
   "id": "b5c0041b",
   "metadata": {},
   "source": [
    "<h1><center>F1 RACE WINNER PREDICTOR</center></h1>"
   ]
  },
  {
   "cell_type": "markdown",
   "id": "3f00d93c",
   "metadata": {},
   "source": [
    "![](\\Images\\f1-ferrari.jpg)"
   ]
  },
  {
   "cell_type": "markdown",
   "id": "94c0db48",
   "metadata": {},
   "source": [
    "<h1><center>4. Modeling</center></h1>"
   ]
  },
  {
   "cell_type": "markdown",
   "id": "6ae90306",
   "metadata": {},
   "source": [
    "---"
   ]
  },
  {
   "cell_type": "markdown",
   "id": "707f0738",
   "metadata": {},
   "source": [
    "## In this Notebook:\n",
    "\n",
    "In this Notebook you will find the preliminary cleaning of the data and a quick feature engineering related to the use of dates and qualifying times. \n",
    "\n",
    "1. [Data preparation](#1.-Data-preparation)\n",
    "2. [Tailor-made scoring function](#2.-Tailor-made-scoring-function)\n",
    "3. [Model selection and tuning](#3.-Model-selection-and-tuning)\n",
    "4. [2021 season predictions](#4.-2021-season-predictions)  \n",
    "5. [Feature importance](#5.-Feature-importance)\n",
    "6. [Next steps](#6.-Next-steps)\n",
    "\n",
    "The following step after EDA is 4. ML Modelling."
   ]
  },
  {
   "cell_type": "markdown",
   "id": "8d677bb0",
   "metadata": {},
   "source": [
    "---"
   ]
  },
  {
   "cell_type": "code",
   "execution_count": 1,
   "id": "b982c9d8",
   "metadata": {},
   "outputs": [],
   "source": [
    "# Import dependencies\n",
    "import pandas as pd\n",
    "import numpy as np\n",
    "import matplotlib.pyplot as plt\n",
    "%matplotlib inline\n",
    "import seaborn as sns\n",
    "import math\n",
    "\n",
    "from sklearn.metrics import confusion_matrix, precision_score, accuracy_score\n",
    "from sklearn.linear_model import LogisticRegression\n",
    "from sklearn import svm\n",
    "from sklearn.preprocessing import StandardScaler, MinMaxScaler\n",
    "from sklearn.ensemble import RandomForestClassifier\n",
    "from xgboost import XGBClassifier\n",
    "\n",
    "np.set_printoptions(precision=4)\n",
    "\n",
    "import warnings\n",
    "warnings.filterwarnings('ignore')"
   ]
  },
  {
   "cell_type": "markdown",
   "id": "4d4e27bf",
   "metadata": {},
   "source": [
    "# 1. Data preparation"
   ]
  },
  {
   "cell_type": "code",
   "execution_count": 2,
   "id": "eb4e203f",
   "metadata": {},
   "outputs": [],
   "source": [
    "# Define what season to use as test set\n",
    "test_season = 2021"
   ]
  },
  {
   "cell_type": "code",
   "execution_count": 3,
   "id": "9bd1c141",
   "metadata": {},
   "outputs": [],
   "source": [
    "# read data and apply modifications from EDA\n",
    "data = pd.read_csv('data/df_no_dummies.csv')\n",
    "\n",
    "# 'win' variable will be our target feature later in the modelling stage\n",
    "data['win'] = data['podium'].apply(lambda x: 1 if x==1 else 0)\n",
    "\n",
    "# 'bucketize' the seasons into regulation eras\n",
    "def era_split(value_in):\n",
    "    if value_in<=1988:\n",
    "        value_out = '1.5L_turbo'\n",
    "    elif value_in<=1994:\n",
    "        value_out = '3.5L_naturally_aspirated'\n",
    "    elif value_in<=1999:\n",
    "        value_out = '3L'\n",
    "    elif value_in<=2005:\n",
    "        value_out = 'V10'\n",
    "    elif value_in<=2013:\n",
    "        value_out = '2.4L_V8_engines'\n",
    "    elif value_in<=2021:\n",
    "        value_out = 'V6_hybrid'\n",
    "    return value_out\n",
    "data['reg_era'] = data.season.apply(era_split)\n",
    "\n",
    "data.drop(columns=['weather_warm','weather_cold', 'weather_dry', 'weather_cloudy', 'weather'], inplace=True)\n",
    "\n",
    "data = pd.get_dummies(data, columns = ['reg_era'] )"
   ]
  },
  {
   "cell_type": "code",
   "execution_count": 4,
   "id": "4e65ee3a",
   "metadata": {},
   "outputs": [
    {
     "data": {
      "text/plain": [
       "Index(['season', 'round', 'circuit_id', 'weather_wet', 'driver', 'nationality',\n",
       "       'constructor', 'grid', 'podium', 'driver_points', 'driver_wins',\n",
       "       'driver_standings_pos', 'constructor_points', 'constructor_wins',\n",
       "       'constructor_standings_pos', 'qualifying_time', 'driver_age', 'win',\n",
       "       'reg_era_1.5L_turbo', 'reg_era_2.4L_V8_engines',\n",
       "       'reg_era_3.5L_naturally_aspirated', 'reg_era_3L', 'reg_era_V10',\n",
       "       'reg_era_V6_hybrid'],\n",
       "      dtype='object')"
      ]
     },
     "execution_count": 4,
     "metadata": {},
     "output_type": "execute_result"
    }
   ],
   "source": [
    "df0 = data.copy()\n",
    "df0.columns"
   ]
  },
  {
   "cell_type": "code",
   "execution_count": 5,
   "id": "a22abb6a",
   "metadata": {},
   "outputs": [],
   "source": [
    "# account for team rebranding by replacing old names by new names\n",
    "df0.loc[df0.constructor == \"toro_rosso\", \"constructor\"] = \"alphatauri\"\n",
    "df0.loc[df0.constructor == \"renault\", \"constructor\"] = \"alpine\"\n",
    "df0.loc[df0.constructor == \"racing_point\", \"constructor\"] = \"aston_martin\"\n",
    "df0.loc[df0.constructor == \"force_india\", \"constructor\"] = \"aston_martin\"\n",
    "#df0.loc[df0.constructor == \"force_india\", \"constructor\"] = \"racing_point\""
   ]
  },
  {
   "cell_type": "code",
   "execution_count": 6,
   "id": "67594393",
   "metadata": {},
   "outputs": [
    {
     "name": "stdout",
     "output_type": "stream",
     "text": [
      "The number of dimensions reduced by removing old constructors is 52\n",
      "The number of dimensions reduced by removing old drivers is 210\n",
      "The number of dimensions reduced by removing old cirucits is 30\n"
     ]
    }
   ],
   "source": [
    "# ONLY KEEP 2021-RELEVANT CONSTRUCTORS, DRIVERS AND CIRCUITS\n",
    "\n",
    "# CONSTRUCTORS ------------------------------------------------------------\n",
    "\n",
    "#create a list with ALL constructors (after dummification)\n",
    "all_constr = df0.constructor.unique()\n",
    "constr_concat_all = ['constructor_' + str(i) for i in all_constr]\n",
    "\n",
    "#create a list with 2021 constructors (after dummification)\n",
    "constr_2021_list = list(df0[df0['season'] == test_season]['constructor'].unique())\n",
    "constr_concat_21 = ['constructor_' + str(i) for i in constr_2021_list]\n",
    "\n",
    "#subtract the 2021 list from the all list \n",
    "constr_to_drop = list([x for x in constr_concat_all if not x in constr_concat_21 or constr_concat_21.remove(x)])\n",
    "print('The number of dimensions reduced by removing old constructors is ' + str(len(constr_to_drop)))\n",
    "\n",
    "# DRIVERS -----------------------------------------------------------------\n",
    "\n",
    "#create a list with all drivers (after dummification)\n",
    "all_driver = df0.driver.unique()\n",
    "driver_concat_all = ['driver_' + str(i) for i in all_driver]\n",
    "\n",
    "#create a list with 2021 constructors (after dummification)\n",
    "driver_2021_list = list(df0[df0['season'] == test_season]['driver'].unique())\n",
    "driver_concat_21 = ['driver_' + str(i) for i in driver_2021_list]\n",
    "\n",
    "#subtract the 2021 list from the all list \n",
    "driver_to_drop = list([x for x in driver_concat_all if not x in driver_concat_21 or driver_concat_21.remove(x)])\n",
    "print('The number of dimensions reduced by removing old drivers is ' + str(len(driver_to_drop)))\n",
    "\n",
    "# CIRCUITS ----------------------------------------------------------------\n",
    "\n",
    "#create a list with all circuits (after dummification)\n",
    "all_circuit = df0.circuit_id.unique()\n",
    "circuit_concat_all = ['circuit_id_' + str(i) for i in all_circuit]\n",
    "\n",
    "#create a list with 2021 circuits (after dummification)\n",
    "circuit_2021_list = list(df0[df0['season'] == test_season]['circuit_id'].unique())\n",
    "circuit_concat_21 = ['circuit_id_' + str(i) for i in circuit_2021_list]\n",
    "\n",
    "#subtract the 2021 list from the all list \n",
    "circuit_to_drop = list([x for x in circuit_concat_all if not x in circuit_concat_21 or circuit_concat_21.remove(x)])\n",
    "print('The number of dimensions reduced by removing old cirucits is ' + str(len(circuit_to_drop)))"
   ]
  },
  {
   "cell_type": "code",
   "execution_count": 7,
   "id": "39207e15",
   "metadata": {},
   "outputs": [],
   "source": [
    "# Removing unnecessary columns before dummification\n",
    "in_model = ['season', 'round', 'circuit_id', 'weather_wet', 'driver',\n",
    "       'constructor', 'grid', 'driver_points', 'driver_wins',\n",
    "       'driver_standings_pos', 'constructor_points', 'constructor_wins',\n",
    "       'constructor_standings_pos', 'qualifying_time', 'driver_age',\n",
    "       'reg_era_1.5L_turbo', 'reg_era_2.4L_V8_engines',\n",
    "       'reg_era_3.5L_naturally_aspirated', 'reg_era_3L', 'reg_era_V10',\n",
    "       'reg_era_V6_hybrid', 'win']\n",
    "df0 = df0[in_model]"
   ]
  },
  {
   "cell_type": "code",
   "execution_count": 8,
   "id": "44167f91",
   "metadata": {},
   "outputs": [
    {
     "name": "stdout",
     "output_type": "stream",
     "text": [
      "Total remaining features: 70\n"
     ]
    }
   ],
   "source": [
    "# full df \n",
    "df = pd.get_dummies(df0)\n",
    "df.drop(constr_to_drop, inplace=True, axis=1)\n",
    "df.drop(driver_to_drop, inplace=True, axis=1)\n",
    "df.drop(columns='driver_kubica', inplace=True, axis=1) # Kubica was briefly a replacement driver in 2021.\n",
    "df.drop(circuit_to_drop, inplace=True, axis=1)\n",
    "print('Total remaining features: ' + str(len(list(df.columns))))"
   ]
  },
  {
   "cell_type": "markdown",
   "id": "a2654810",
   "metadata": {},
   "source": [
    "# 2. Tailor-made scoring function"
   ]
  },
  {
   "cell_type": "code",
   "execution_count": 9,
   "id": "8d3615ef",
   "metadata": {},
   "outputs": [],
   "source": [
    "# Train set (test set is on a per-season basis, created inside the socring function)\n",
    "\n",
    "train = df[df['season'] < test_season]\n",
    "\n",
    "X_train = train.drop(columns='win')\n",
    "y_train = train['win']\n",
    "\n",
    "scaler = MinMaxScaler()\n",
    "X_train = pd.DataFrame(scaler.fit_transform(X_train), columns = X_train.columns)"
   ]
  },
  {
   "cell_type": "code",
   "execution_count": 10,
   "id": "e4e85caa",
   "metadata": {},
   "outputs": [],
   "source": [
    "# scoring function for classification\n",
    "\n",
    "def score_classification(model, df):\n",
    "    score = 0\n",
    "    for race in df[df.season == test_season]['round'].unique():\n",
    "        \n",
    "        # test set is the whole test_season\n",
    "        test = df[(df['season'] == test_season) & (df['round'] == race)]\n",
    "        X_test = test.drop(['win'], axis = 1)\n",
    "        y_test = test['win']\n",
    "\n",
    "        #scaling\n",
    "        X_test = pd.DataFrame(scaler.transform(X_test), columns = X_test.columns)\n",
    "\n",
    "        # make predictions\n",
    "        prediction_df = pd.DataFrame(model.predict_proba(X_test), columns = ['proba_0', 'proba_1'])\n",
    "        prediction_df['actual'] = y_test.reset_index(drop = True) # reset index\n",
    "        prediction_df.sort_values(by='proba_1', ascending = False, inplace = True) # sort by proba of winning\n",
    "        prediction_df.reset_index(inplace = True, drop = True) # reset index again\n",
    "        prediction_df['predicted'] = prediction_df.index\n",
    "        prediction_df['predicted'] = prediction_df.predicted.map(lambda x: 1 if x == 0 else 0) # winner is the driver with the highest proba\n",
    "\n",
    "        score += precision_score(prediction_df.actual, prediction_df.predicted) # share of correctly predicted in 2021 season\n",
    "\n",
    "    model_score = score / df[df.season == test_season]['round'].unique().max() # score = share of correctly predicted test season\n",
    "    return model_score"
   ]
  },
  {
   "cell_type": "markdown",
   "id": "c5218ed3",
   "metadata": {},
   "source": [
    "# 3. Model selection and tuning"
   ]
  },
  {
   "cell_type": "code",
   "execution_count": 11,
   "id": "61f68d15",
   "metadata": {},
   "outputs": [],
   "source": [
    "# Initialize grid search results dict\n",
    "results_dict = {'model':[], 'params': [], 'score': []}"
   ]
  },
  {
   "cell_type": "code",
   "execution_count": 12,
   "id": "16d933a5",
   "metadata": {},
   "outputs": [],
   "source": [
    "# Logistic Regression\n",
    "\n",
    "param_grid={'penalty': ['l1', 'l2'],\n",
    "        'solver': ['saga', 'liblinear'],\n",
    "        'C': np.logspace(-3,1,20)} # np.logspace(start, stop, number_of_samples) returns numbers evenly spaced on a log scale\n",
    "\n",
    "for penalty in param_grid['penalty']:\n",
    "    for solver in param_grid['solver']:\n",
    "        for c in param_grid['C']:\n",
    "            model_params = (penalty, solver, c)\n",
    "            model = LogisticRegression(penalty = penalty, solver = solver, C = c, max_iter = 10000, n_jobs=-1)\n",
    "            model.fit(X_train, y_train)\n",
    "            \n",
    "            model_score = score_classification(model, df=df)\n",
    "            \n",
    "            results_dict['model'].append('logistic_regression')\n",
    "            results_dict['params'].append(model_params)\n",
    "            results_dict['score'].append(model_score)"
   ]
  },
  {
   "cell_type": "code",
   "execution_count": 13,
   "id": "4ffb4662",
   "metadata": {
    "collapsed": true
   },
   "outputs": [],
   "source": [
    "# Extreme Gradient Boosting (XGBoost)\n",
    "\n",
    "param_grid={'max_depth': [2, 3, 4, 5],\n",
    "        'n_estimators': [100, 500, 1000],\n",
    "        'learning_rate': [0.1, 0.2, 0.05]}\n",
    "\n",
    "for max_depth in param_grid['max_depth']:\n",
    "    for n_estimators in param_grid['n_estimators']:\n",
    "        for learning_rate in param_grid['learning_rate']:\n",
    "            model_params = (max_depth, n_estimators, learning_rate)\n",
    "            model = XGBClassifier(max_depth=max_depth, n_estimators=n_estimators, learning_rate=learning_rate, n_jobs=-1)\n",
    "            model.fit(X_train, y_train)\n",
    "            \n",
    "            model_score = score_classification(model, df=df)\n",
    "            \n",
    "            results_dict['model'].append('XGBoost_classifier')\n",
    "            results_dict['params'].append(model_params)\n",
    "            results_dict['score'].append(model_score)"
   ]
  },
  {
   "cell_type": "code",
   "execution_count": 14,
   "id": "2063e83b",
   "metadata": {},
   "outputs": [],
   "source": [
    "# Support Vector Machines (takes 6+ hours to train)\n",
    "\n",
    "param_grid={'gamma': np.logspace(-4, -1, 20), # np.logspace(start, stop, number_of_samples) returns numbers evenly spaced on a log scale\n",
    "        'C': np.logspace(-2, 1, 20), # np.logspace(start, stop, number_of_samples) returns numbers evenly spaced on a log scale\n",
    "        'kernel': ['linear', 'poly', 'rbf', 'sigmoid']} \n",
    "\n",
    "for gamma in param_grid['gamma']:\n",
    "    for c in param_grid['C']:\n",
    "        for kernel in param_grid['kernel']:\n",
    "            model_params = (gamma, c, kernel)\n",
    "            model = svm.SVC(probability = True, gamma = gamma, C = c, kernel = kernel)\n",
    "            model.fit(X_train, y_train)\n",
    "            \n",
    "            model_score = score_classification(model, df=df)\n",
    "            \n",
    "            results_dict['model'].append('svm_classifier')\n",
    "            results_dict['params'].append(model_params)\n",
    "            results_dict['score'].append(model_score)"
   ]
  },
  {
   "cell_type": "code",
   "execution_count": 15,
   "id": "e1a0de94",
   "metadata": {},
   "outputs": [],
   "source": [
    "# Random Forest Classifier\n",
    "\n",
    "param_grid={'criterion': ['gini', 'entropy'],\n",
    "        'max_features': ['sqrt', 'log2', None],\n",
    "        'max_depth': list(np.linspace(5, 55, 26, dtype=int)) + [None]} \n",
    "\n",
    "for criterion in param_grid['criterion']:\n",
    "    for max_features in param_grid['max_features']:\n",
    "        for max_depth in param_grid['max_depth']:\n",
    "            model_params = (criterion, max_features, max_depth)\n",
    "            model = RandomForestClassifier(criterion = criterion, max_features = max_features, max_depth = max_depth, n_jobs=-1)\n",
    "            model.fit(X_train, y_train)\n",
    "            \n",
    "            model_score = score_classification(model, df=df)\n",
    "            \n",
    "            results_dict['model'].append('random_forest_classifier')\n",
    "            results_dict['params'].append(model_params)\n",
    "            results_dict['score'].append(model_score)"
   ]
  },
  {
   "cell_type": "code",
   "execution_count": 16,
   "id": "5fae91b4",
   "metadata": {},
   "outputs": [],
   "source": [
    "# Neural Networks? Coming soon, need GPU :)"
   ]
  },
  {
   "cell_type": "code",
   "execution_count": 17,
   "id": "9a20c53a",
   "metadata": {
    "scrolled": false
   },
   "outputs": [
    {
     "data": {
      "text/html": [
       "<div>\n",
       "<style scoped>\n",
       "    .dataframe tbody tr th:only-of-type {\n",
       "        vertical-align: middle;\n",
       "    }\n",
       "\n",
       "    .dataframe tbody tr th {\n",
       "        vertical-align: top;\n",
       "    }\n",
       "\n",
       "    .dataframe thead th {\n",
       "        text-align: right;\n",
       "    }\n",
       "</style>\n",
       "<table border=\"1\" class=\"dataframe\">\n",
       "  <thead>\n",
       "    <tr style=\"text-align: right;\">\n",
       "      <th></th>\n",
       "      <th>model</th>\n",
       "      <th>params</th>\n",
       "      <th>score</th>\n",
       "    </tr>\n",
       "  </thead>\n",
       "  <tbody>\n",
       "    <tr>\n",
       "      <th>0</th>\n",
       "      <td>random_forest_classifier</td>\n",
       "      <td>(gini, sqrt, 17)</td>\n",
       "      <td>0.636364</td>\n",
       "    </tr>\n",
       "    <tr>\n",
       "      <th>1</th>\n",
       "      <td>random_forest_classifier</td>\n",
       "      <td>(gini, sqrt, 47)</td>\n",
       "      <td>0.636364</td>\n",
       "    </tr>\n",
       "    <tr>\n",
       "      <th>2</th>\n",
       "      <td>random_forest_classifier</td>\n",
       "      <td>(entropy, sqrt, 21)</td>\n",
       "      <td>0.636364</td>\n",
       "    </tr>\n",
       "    <tr>\n",
       "      <th>3</th>\n",
       "      <td>svm_classifier</td>\n",
       "      <td>(0.0001, 0.12742749857031335, rbf)</td>\n",
       "      <td>0.636364</td>\n",
       "    </tr>\n",
       "    <tr>\n",
       "      <th>4</th>\n",
       "      <td>random_forest_classifier</td>\n",
       "      <td>(gini, sqrt, 19)</td>\n",
       "      <td>0.590909</td>\n",
       "    </tr>\n",
       "    <tr>\n",
       "      <th>5</th>\n",
       "      <td>random_forest_classifier</td>\n",
       "      <td>(entropy, sqrt, 53)</td>\n",
       "      <td>0.590909</td>\n",
       "    </tr>\n",
       "    <tr>\n",
       "      <th>6</th>\n",
       "      <td>random_forest_classifier</td>\n",
       "      <td>(entropy, sqrt, 51)</td>\n",
       "      <td>0.590909</td>\n",
       "    </tr>\n",
       "    <tr>\n",
       "      <th>7</th>\n",
       "      <td>svm_classifier</td>\n",
       "      <td>(0.06951927961775606, 0.04281332398719394, lin...</td>\n",
       "      <td>0.590909</td>\n",
       "    </tr>\n",
       "    <tr>\n",
       "      <th>8</th>\n",
       "      <td>svm_classifier</td>\n",
       "      <td>(0.1, 0.04281332398719394, linear)</td>\n",
       "      <td>0.590909</td>\n",
       "    </tr>\n",
       "    <tr>\n",
       "      <th>9</th>\n",
       "      <td>random_forest_classifier</td>\n",
       "      <td>(gini, sqrt, 5)</td>\n",
       "      <td>0.590909</td>\n",
       "    </tr>\n",
       "  </tbody>\n",
       "</table>\n",
       "</div>"
      ],
      "text/plain": [
       "                      model  \\\n",
       "0  random_forest_classifier   \n",
       "1  random_forest_classifier   \n",
       "2  random_forest_classifier   \n",
       "3            svm_classifier   \n",
       "4  random_forest_classifier   \n",
       "5  random_forest_classifier   \n",
       "6  random_forest_classifier   \n",
       "7            svm_classifier   \n",
       "8            svm_classifier   \n",
       "9  random_forest_classifier   \n",
       "\n",
       "                                              params     score  \n",
       "0                                   (gini, sqrt, 17)  0.636364  \n",
       "1                                   (gini, sqrt, 47)  0.636364  \n",
       "2                                (entropy, sqrt, 21)  0.636364  \n",
       "3                 (0.0001, 0.12742749857031335, rbf)  0.636364  \n",
       "4                                   (gini, sqrt, 19)  0.590909  \n",
       "5                                (entropy, sqrt, 53)  0.590909  \n",
       "6                                (entropy, sqrt, 51)  0.590909  \n",
       "7  (0.06951927961775606, 0.04281332398719394, lin...  0.590909  \n",
       "8                 (0.1, 0.04281332398719394, linear)  0.590909  \n",
       "9                                    (gini, sqrt, 5)  0.590909  "
      ]
     },
     "execution_count": 17,
     "metadata": {},
     "output_type": "execute_result"
    }
   ],
   "source": [
    "results_df = pd.DataFrame(results_dict).sort_values('score', ascending=False).reset_index(drop=True)\n",
    "results_df.head(10)"
   ]
  },
  {
   "cell_type": "code",
   "execution_count": 18,
   "id": "1cfd1de6",
   "metadata": {},
   "outputs": [],
   "source": [
    "results_df.to_csv('data/gridsearch_results_' + str(test_season) + '.csv')"
   ]
  },
  {
   "cell_type": "markdown",
   "id": "b0105f9d",
   "metadata": {},
   "source": [
    "Model Tuning Observations:\n",
    "\n",
    "- The models that best perform are the Random Forest Classifier and the SVC Classifier. The SVM with a kernel is generally a very powerful classification model that sometimes competes with neural networks. The random forest was expected to perform well as tree-based classification models tend to shine when there is a large number of dummy variables, as they work with a yes/no decision tree system.\n",
    "- The model managed to earn a precision score of 0.636"
   ]
  },
  {
   "cell_type": "code",
   "execution_count": 19,
   "id": "e5a914ed",
   "metadata": {
    "scrolled": false
   },
   "outputs": [
    {
     "data": {
      "text/plain": [
       "model\n",
       "random_forest_classifier    0.636364\n",
       "svm_classifier              0.636364\n",
       "XGBoost_classifier          0.590909\n",
       "logistic_regression         0.590909\n",
       "Name: score, dtype: float64"
      ]
     },
     "execution_count": 19,
     "metadata": {},
     "output_type": "execute_result"
    }
   ],
   "source": [
    "# best score by model\n",
    "results_df.groupby('model')['score'].max().sort_values(ascending=False)"
   ]
  },
  {
   "cell_type": "code",
   "execution_count": 20,
   "id": "0614f513",
   "metadata": {
    "scrolled": true
   },
   "outputs": [
    {
     "data": {
      "text/plain": [
       "model\n",
       "XGBoost_classifier          0.521465\n",
       "random_forest_classifier    0.479798\n",
       "logistic_regression         0.454545\n",
       "svm_classifier              0.326705\n",
       "Name: score, dtype: float64"
      ]
     },
     "execution_count": 20,
     "metadata": {},
     "output_type": "execute_result"
    }
   ],
   "source": [
    "# score mean by model\n",
    "results_df.groupby('model')['score'].mean().sort_values(ascending=False)"
   ]
  },
  {
   "cell_type": "code",
   "execution_count": 21,
   "id": "1811f2ff",
   "metadata": {},
   "outputs": [
    {
     "data": {
      "text/plain": [
       "model\n",
       "XGBoost_classifier          0.046718\n",
       "random_forest_classifier    0.067591\n",
       "logistic_regression         0.087089\n",
       "svm_classifier              0.088560\n",
       "Name: score, dtype: float64"
      ]
     },
     "execution_count": 21,
     "metadata": {},
     "output_type": "execute_result"
    }
   ],
   "source": [
    "# score std by model\n",
    "results_df.groupby('model')['score'].std().sort_values(ascending=True)"
   ]
  },
  {
   "cell_type": "code",
   "execution_count": 22,
   "id": "6311845b",
   "metadata": {},
   "outputs": [
    {
     "data": {
      "text/plain": [
       "<AxesSubplot:>"
      ]
     },
     "execution_count": 22,
     "metadata": {},
     "output_type": "execute_result"
    },
    {
     "data": {
      "image/png": "[encoded data removed]",
      "text/plain": [
       "<Figure size 640x480 with 1 Axes>"
      ]
     },
     "metadata": {},
     "output_type": "display_data"
    }
   ],
   "source": [
    "# score distribution: random forest\n",
    "results_df[results_df['model'] == 'random_forest_classifier'].score.hist(bins=15)"
   ]
  },
  {
   "cell_type": "code",
   "execution_count": 23,
   "id": "7e153eff",
   "metadata": {},
   "outputs": [
    {
     "data": {
      "text/plain": [
       "<AxesSubplot:>"
      ]
     },
     "execution_count": 23,
     "metadata": {},
     "output_type": "execute_result"
    },
    {
     "data": {
      "image/png": "[encoded data removed]",
      "text/plain": [
       "<Figure size 640x480 with 1 Axes>"
      ]
     },
     "metadata": {},
     "output_type": "display_data"
    }
   ],
   "source": [
    "# score distribution: svm\n",
    "results_df[results_df['model'] == 'svm_classifier'].score.hist(bins=15)"
   ]
  },
  {
   "cell_type": "markdown",
   "id": "69e8c4e4",
   "metadata": {},
   "source": [
    "# 4. 2021 season predictions"
   ]
  },
  {
   "cell_type": "code",
   "execution_count": 24,
   "id": "984a09e7",
   "metadata": {},
   "outputs": [
    {
     "name": "stdout",
     "output_type": "stream",
     "text": [
      "Model used: random_forest_classifier\n"
     ]
    }
   ],
   "source": [
    "# Predictions\n",
    "\n",
    "best_params = list(results_df.iloc[0,1]) # fetch the best parameters from results_df\n",
    "\n",
    "# choosing the best model according to GridSearch\n",
    "if results_df.iloc[0,0] == 'random_forest_classifier':\n",
    "    model = RandomForestClassifier(criterion=best_params[0], max_features=best_params[1], max_depth=best_params[2], n_jobs=-1, random_state=8)\n",
    "elif results_df.iloc[0,0] == 'svm_classifier':\n",
    "    model = svm.SVC(probability = True, gamma = best_params[0], C = best_params[1], kernel = best_params[2])\n",
    "\n",
    "print('Model used: ' + str(results_df.iloc[0,0]))\n",
    "\n",
    "model.fit(X_train, y_train)\n",
    "\n",
    "race_predictions = []\n",
    "\n",
    "for race in df[df.season == test_season]['round'].unique():\n",
    "        \n",
    "    # test set is the whole test_season\n",
    "    test = df[(df['season'] == test_season) & (df['round'] == race)]\n",
    "    X_test = test.drop(['win'], axis = 1)\n",
    "    y_test = test['win']\n",
    "    \n",
    "    #scaling\n",
    "    X_test = pd.DataFrame(scaler.transform(X_test), columns = X_test.columns)\n",
    "    \n",
    "    # make predictions\n",
    "    prediction = model.predict_proba(X_test)\n",
    "    \n",
    "    prediction_df = pd.DataFrame(test)\n",
    "    prediction_df['Target'] = y_test\n",
    "    prediction_df['proba_not_win'] = prediction[:,0] \n",
    "    prediction_df['proba_win'] = prediction[:,1]\n",
    "    \n",
    "    #prediction_df['actual'] = y_test.reset_index(drop = True) # reset index\n",
    "    prediction_df.sort_values(by='proba_win', ascending = False, inplace = True) # sort by proba of winning\n",
    "    prediction_df.reset_index(inplace = True, drop = True) # reset index again\n",
    "    prediction_df['predicted'] = prediction_df.index\n",
    "    prediction_df['predicted'] = prediction_df.predicted.map(lambda x: 1 if x == 0 else 0) # winner is the driver with the highest proba\n",
    "    prediction_df['round'] = int(race)\n",
    "    \n",
    "    race_predictions.append(prediction_df)\n",
    "\n",
    "prediction_df = pd.concat(race_predictions) # concatenate all predictions for all races into one DataFrame"
   ]
  },
  {
   "cell_type": "code",
   "execution_count": 25,
   "id": "aac3134a",
   "metadata": {},
   "outputs": [],
   "source": [
    "# Undummification of some cat features to construct the final summary table\n",
    "\n",
    "# drivers\n",
    "drivers = [item for item in df.columns if 'driver_' in item] # create list of drivers for undummification\n",
    "drivers.remove('driver_points')\n",
    "drivers.remove('driver_wins')\n",
    "drivers.remove('driver_standings_pos')\n",
    "drivers.remove('driver_age')\n",
    "drivers_no_dummies = list(prediction_df[drivers].idxmax(axis=1))\n",
    "prediction_df['driver'] = drivers_no_dummies\n",
    "prediction_df['driver'] = prediction_df['driver'].apply(lambda x: x.split('_')[-1])\n",
    "\n",
    "# constructors\n",
    "constructors = [item for item in df.columns if 'constructor_' in item] # create list of constructors for undummification\n",
    "constructors.remove('constructor_points')\n",
    "constructors.remove('constructor_wins')\n",
    "constructors.remove('constructor_standings_pos')\n",
    "constructors_no_dummies = list(prediction_df[constructors].idxmax(axis=1))\n",
    "prediction_df['constructor'] = constructors_no_dummies\n",
    "prediction_df['constructor'] = prediction_df['constructor'].apply(lambda x: x.replace('constructor_', ''))\n",
    "\n",
    "# circuits\n",
    "circuits = [item for item in df.columns if 'circuit_id_' in item] # create list of circuits for undummification\n",
    "circuits_no_dummies = list(prediction_df[circuits].idxmax(axis=1))\n",
    "prediction_df['circuit'] = circuits_no_dummies\n",
    "prediction_df['circuit'] = prediction_df['circuit'].apply(lambda x: x.replace('circuit_id_', ''))"
   ]
  },
  {
   "cell_type": "code",
   "execution_count": 26,
   "id": "bf99cf39",
   "metadata": {
    "scrolled": true
   },
   "outputs": [
    {
     "data": {
      "text/html": [
       "<div>\n",
       "<style scoped>\n",
       "    .dataframe tbody tr th:only-of-type {\n",
       "        vertical-align: middle;\n",
       "    }\n",
       "\n",
       "    .dataframe tbody tr th {\n",
       "        vertical-align: top;\n",
       "    }\n",
       "\n",
       "    .dataframe thead th {\n",
       "        text-align: right;\n",
       "    }\n",
       "</style>\n",
       "<table border=\"1\" class=\"dataframe\">\n",
       "  <thead>\n",
       "    <tr style=\"text-align: right;\">\n",
       "      <th></th>\n",
       "      <th>season</th>\n",
       "      <th>round</th>\n",
       "      <th>circuit</th>\n",
       "      <th>driver_on_pole</th>\n",
       "      <th>driver_won</th>\n",
       "      <th>driver_predicted</th>\n",
       "    </tr>\n",
       "  </thead>\n",
       "  <tbody>\n",
       "    <tr>\n",
       "      <th>0</th>\n",
       "      <td>2021</td>\n",
       "      <td>1</td>\n",
       "      <td>bahrain</td>\n",
       "      <td>verstappen</td>\n",
       "      <td>hamilton</td>\n",
       "      <td>hamilton</td>\n",
       "    </tr>\n",
       "    <tr>\n",
       "      <th>1</th>\n",
       "      <td>2021</td>\n",
       "      <td>2</td>\n",
       "      <td>imola</td>\n",
       "      <td>hamilton</td>\n",
       "      <td>verstappen</td>\n",
       "      <td>hamilton</td>\n",
       "    </tr>\n",
       "    <tr>\n",
       "      <th>2</th>\n",
       "      <td>2021</td>\n",
       "      <td>3</td>\n",
       "      <td>portimao</td>\n",
       "      <td>bottas</td>\n",
       "      <td>hamilton</td>\n",
       "      <td>hamilton</td>\n",
       "    </tr>\n",
       "    <tr>\n",
       "      <th>3</th>\n",
       "      <td>2021</td>\n",
       "      <td>4</td>\n",
       "      <td>catalunya</td>\n",
       "      <td>hamilton</td>\n",
       "      <td>hamilton</td>\n",
       "      <td>hamilton</td>\n",
       "    </tr>\n",
       "    <tr>\n",
       "      <th>4</th>\n",
       "      <td>2021</td>\n",
       "      <td>5</td>\n",
       "      <td>monaco</td>\n",
       "      <td>leclerc</td>\n",
       "      <td>verstappen</td>\n",
       "      <td>hamilton</td>\n",
       "    </tr>\n",
       "    <tr>\n",
       "      <th>5</th>\n",
       "      <td>2021</td>\n",
       "      <td>6</td>\n",
       "      <td>baku</td>\n",
       "      <td>leclerc</td>\n",
       "      <td>perez</td>\n",
       "      <td>hamilton</td>\n",
       "    </tr>\n",
       "    <tr>\n",
       "      <th>6</th>\n",
       "      <td>2021</td>\n",
       "      <td>7</td>\n",
       "      <td>ricard</td>\n",
       "      <td>verstappen</td>\n",
       "      <td>verstappen</td>\n",
       "      <td>verstappen</td>\n",
       "    </tr>\n",
       "    <tr>\n",
       "      <th>7</th>\n",
       "      <td>2021</td>\n",
       "      <td>8</td>\n",
       "      <td>red_bull_ring</td>\n",
       "      <td>verstappen</td>\n",
       "      <td>verstappen</td>\n",
       "      <td>hamilton</td>\n",
       "    </tr>\n",
       "    <tr>\n",
       "      <th>8</th>\n",
       "      <td>2021</td>\n",
       "      <td>9</td>\n",
       "      <td>red_bull_ring</td>\n",
       "      <td>verstappen</td>\n",
       "      <td>verstappen</td>\n",
       "      <td>verstappen</td>\n",
       "    </tr>\n",
       "    <tr>\n",
       "      <th>9</th>\n",
       "      <td>2021</td>\n",
       "      <td>10</td>\n",
       "      <td>silverstone</td>\n",
       "      <td>verstappen</td>\n",
       "      <td>hamilton</td>\n",
       "      <td>hamilton</td>\n",
       "    </tr>\n",
       "    <tr>\n",
       "      <th>10</th>\n",
       "      <td>2021</td>\n",
       "      <td>11</td>\n",
       "      <td>hungaroring</td>\n",
       "      <td>hamilton</td>\n",
       "      <td>ocon</td>\n",
       "      <td>hamilton</td>\n",
       "    </tr>\n",
       "    <tr>\n",
       "      <th>11</th>\n",
       "      <td>2021</td>\n",
       "      <td>12</td>\n",
       "      <td>spa</td>\n",
       "      <td>verstappen</td>\n",
       "      <td>verstappen</td>\n",
       "      <td>hamilton</td>\n",
       "    </tr>\n",
       "    <tr>\n",
       "      <th>12</th>\n",
       "      <td>2021</td>\n",
       "      <td>13</td>\n",
       "      <td>zandvoort</td>\n",
       "      <td>verstappen</td>\n",
       "      <td>verstappen</td>\n",
       "      <td>hamilton</td>\n",
       "    </tr>\n",
       "    <tr>\n",
       "      <th>13</th>\n",
       "      <td>2021</td>\n",
       "      <td>14</td>\n",
       "      <td>monza</td>\n",
       "      <td>verstappen</td>\n",
       "      <td>ricciardo</td>\n",
       "      <td>verstappen</td>\n",
       "    </tr>\n",
       "    <tr>\n",
       "      <th>14</th>\n",
       "      <td>2021</td>\n",
       "      <td>15</td>\n",
       "      <td>sochi</td>\n",
       "      <td>norris</td>\n",
       "      <td>hamilton</td>\n",
       "      <td>norris</td>\n",
       "    </tr>\n",
       "    <tr>\n",
       "      <th>15</th>\n",
       "      <td>2021</td>\n",
       "      <td>16</td>\n",
       "      <td>istanbul</td>\n",
       "      <td>bottas</td>\n",
       "      <td>bottas</td>\n",
       "      <td>bottas</td>\n",
       "    </tr>\n",
       "    <tr>\n",
       "      <th>16</th>\n",
       "      <td>2021</td>\n",
       "      <td>17</td>\n",
       "      <td>americas</td>\n",
       "      <td>verstappen</td>\n",
       "      <td>verstappen</td>\n",
       "      <td>hamilton</td>\n",
       "    </tr>\n",
       "    <tr>\n",
       "      <th>17</th>\n",
       "      <td>2021</td>\n",
       "      <td>18</td>\n",
       "      <td>rodriguez</td>\n",
       "      <td>bottas</td>\n",
       "      <td>verstappen</td>\n",
       "      <td>hamilton</td>\n",
       "    </tr>\n",
       "    <tr>\n",
       "      <th>18</th>\n",
       "      <td>2021</td>\n",
       "      <td>19</td>\n",
       "      <td>interlagos</td>\n",
       "      <td>bottas</td>\n",
       "      <td>hamilton</td>\n",
       "      <td>bottas</td>\n",
       "    </tr>\n",
       "    <tr>\n",
       "      <th>19</th>\n",
       "      <td>2021</td>\n",
       "      <td>20</td>\n",
       "      <td>losail</td>\n",
       "      <td>hamilton</td>\n",
       "      <td>hamilton</td>\n",
       "      <td>hamilton</td>\n",
       "    </tr>\n",
       "    <tr>\n",
       "      <th>20</th>\n",
       "      <td>2021</td>\n",
       "      <td>21</td>\n",
       "      <td>jeddah</td>\n",
       "      <td>hamilton</td>\n",
       "      <td>hamilton</td>\n",
       "      <td>hamilton</td>\n",
       "    </tr>\n",
       "    <tr>\n",
       "      <th>21</th>\n",
       "      <td>2021</td>\n",
       "      <td>22</td>\n",
       "      <td>yas_marina</td>\n",
       "      <td>verstappen</td>\n",
       "      <td>verstappen</td>\n",
       "      <td>hamilton</td>\n",
       "    </tr>\n",
       "  </tbody>\n",
       "</table>\n",
       "</div>"
      ],
      "text/plain": [
       "    season  round        circuit driver_on_pole  driver_won driver_predicted\n",
       "0     2021      1        bahrain     verstappen    hamilton         hamilton\n",
       "1     2021      2          imola       hamilton  verstappen         hamilton\n",
       "2     2021      3       portimao         bottas    hamilton         hamilton\n",
       "3     2021      4      catalunya       hamilton    hamilton         hamilton\n",
       "4     2021      5         monaco        leclerc  verstappen         hamilton\n",
       "5     2021      6           baku        leclerc       perez         hamilton\n",
       "6     2021      7         ricard     verstappen  verstappen       verstappen\n",
       "7     2021      8  red_bull_ring     verstappen  verstappen         hamilton\n",
       "8     2021      9  red_bull_ring     verstappen  verstappen       verstappen\n",
       "9     2021     10    silverstone     verstappen    hamilton         hamilton\n",
       "10    2021     11    hungaroring       hamilton        ocon         hamilton\n",
       "11    2021     12            spa     verstappen  verstappen         hamilton\n",
       "12    2021     13      zandvoort     verstappen  verstappen         hamilton\n",
       "13    2021     14          monza     verstappen   ricciardo       verstappen\n",
       "14    2021     15          sochi         norris    hamilton           norris\n",
       "15    2021     16       istanbul         bottas      bottas           bottas\n",
       "16    2021     17       americas     verstappen  verstappen         hamilton\n",
       "17    2021     18      rodriguez         bottas  verstappen         hamilton\n",
       "18    2021     19     interlagos         bottas    hamilton           bottas\n",
       "19    2021     20         losail       hamilton    hamilton         hamilton\n",
       "20    2021     21         jeddah       hamilton    hamilton         hamilton\n",
       "21    2021     22     yas_marina     verstappen  verstappen         hamilton"
      ]
     },
     "execution_count": 26,
     "metadata": {},
     "output_type": "execute_result"
    }
   ],
   "source": [
    "# Putting together the final summary Table\n",
    "\n",
    "summary = prediction_df[prediction_df['predicted'] == 1].sort_values(by='round').reset_index(drop=True)\n",
    "win_df = prediction_df[prediction_df['win'] == 1].sort_values(by='round')\n",
    "predicted_df = prediction_df[prediction_df['predicted'] == 1].sort_values(by='round')\n",
    "pole_df = prediction_df[prediction_df['grid'] == 1].sort_values(by='round')\n",
    "\n",
    "# driver_won \n",
    "driver_won = list(win_df['driver'])\n",
    "summary['driver_won'] = driver_won\n",
    "# driver _predicted\n",
    "driver_predicted = list(predicted_df['driver'])\n",
    "summary['driver_predicted'] = driver_predicted\n",
    "# driver_on_pole\n",
    "driver_on_pole = list(pole_df['driver'])\n",
    "summary['driver_on_pole'] = driver_on_pole\n",
    "\n",
    "summary = summary[['season', 'round', 'circuit', 'driver_on_pole', 'driver_won', 'driver_predicted']]\n",
    "summary.to_csv('data/prediction_summary_' + str(test_season) + '.csv')\n",
    "summary"
   ]
  },
  {
   "cell_type": "markdown",
   "id": "88122247",
   "metadata": {},
   "source": [
    "## 5. Feature importance"
   ]
  },
  {
   "cell_type": "markdown",
   "id": "d2156418",
   "metadata": {},
   "source": [
    "* It makes sense that the qualifying result ('grid') be disproportionately more important than other features because it is chronologically the closest event to the actual race, specially in circuits where overtaking is more difficult. It is an indication of a driver's performance in 'lab conditions', without attacking, deffending, or managing tyres. \n",
    "* The accumulated constructor and driver points are an indication of how likely is this driver to win given its positions in the past races of the season. They contain the year-to-date performance of a driver/constructor in a single number.\n",
    "* Similarly, the driver's age is a proxy for their tenure or experience in F1 (the two are extremely correlated). It is the all-time hisory of the driver. \n",
    "* Weather_wet turned out to be way less important than expected."
   ]
  },
  {
   "cell_type": "code",
   "execution_count": 27,
   "id": "c19104f3",
   "metadata": {},
   "outputs": [],
   "source": [
    "if model=='random_forest_classifier':\n",
    "    rfc = RandomForestClassifier(criterion=best_params[0], max_features=best_params[1], max_depth=best_params[2], n_jobs=-1, random_state=8)\n",
    "else:\n",
    "    forest_params = ('gini', 'log2', 53)\n",
    "    rfc = RandomForestClassifier(criterion=forest_params[0], max_features=forest_params[1], max_depth=forest_params[2], n_jobs=-1, random_state=8)\n",
    "\n",
    "rfc.fit(X_train, y_train)\n",
    "\n",
    "# Feature importance from a random forest based on mean decrease in impurity (mdi)\n",
    "\n",
    "forest_importances = pd.DataFrame(data=rfc.feature_importances_, index=X_train.columns, columns=['mdi_importance']).sort_values(by='mdi_importance', ascending=False).reset_index(inplace=False).head(13)\n",
    "forest_importances.rename(columns = {'index':'feature_name'}, inplace = True)"
   ]
  },
  {
   "cell_type": "code",
   "execution_count": 28,
   "id": "599bd5e8",
   "metadata": {},
   "outputs": [
    {
     "data": {
      "image/png": "[encoded data removed]",
      "text/plain": [
       "<Figure size 1300x1000 with 1 Axes>"
      ]
     },
     "metadata": {},
     "output_type": "display_data"
    }
   ],
   "source": [
    "# plot \n",
    "\n",
    "plt.figure(figsize=(13,10))\n",
    "sns.set_theme(style=\"whitegrid\")\n",
    "\n",
    "ax = sns.barplot(data=forest_importances, x='mdi_importance', y='feature_name', palette='flare_r')\n",
    "ax.set_xlabel ('mean decrease in impurity', fontsize=15) # drop x-axis label because it's distracting\n",
    "ax.set_ylabel ('') # drop y-axis label because it's distracting\n",
    "ax.tick_params(labelsize=15)\n",
    "\n",
    "plt.suptitle(\"MOST IMPORTANT FEATURES\", y=0.91)\n",
    "plt.savefig('images/feature_importance_mdi.png')\n",
    "plt.show()"
   ]
  },
  {
   "cell_type": "markdown",
   "id": "5cd8704c",
   "metadata": {},
   "source": [
    "## 6. Next steps"
   ]
  },
  {
   "cell_type": "markdown",
   "id": "d914c6e9",
   "metadata": {},
   "source": [
    "*  Put it all into production: create an automated web interface where, right after qualifying on Saturday, the user presses a button, the fresh data gets scraped and ran through the model. The user will get an expected winner for the race of that weekend.\n",
    "*  While estimating the probability of winning, we set teh driver with the higest probability as the winner. What if we calculate the percentage difference between the predicted winner and the predicted P2? This could give us a sense of how certain the model is about its prediction for a given race.\n",
    "*  Using a GPU, build a Neural Network to hopefully improve the quality of our predictions.\n",
    "*  Use Variance Inflation Factor (VIF) to check for multicollinearity."
   ]
  }
 ],
 "metadata": {
  "kernelspec": {
   "display_name": "Python 3.9.7 ('pythonProject')",
   "language": "python",
   "name": "python3"
  },
  "language_info": {
   "codemirror_mode": {
    "name": "ipython",
    "version": 3
   },
   "file_extension": ".py",
   "mimetype": "text/x-python",
   "name": "python",
   "nbconvert_exporter": "python",
   "pygments_lexer": "ipython3",
   "version": "3.9.7"
  },
  "vscode": {
   "interpreter": {
    "hash": "be326176f1860ecec032b2d370b4985588c42454c06063bc47efcf5146e75e12"
   }
  }
 },
 "nbformat": 4,
 "nbformat_minor": 5
}
