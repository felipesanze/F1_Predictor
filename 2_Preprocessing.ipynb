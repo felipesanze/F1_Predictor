{
 "cells": [
  {
   "cell_type": "markdown",
   "id": "49eb1adc",
   "metadata": {},
   "source": [
    "<h1><center>F1 RACE WINNER PREDICTOR</center></h1>\n",
    "<h1><center>2. Data Preprocessing</center></h1>"
   ]
  },
  {
   "cell_type": "markdown",
   "id": "412961f1",
   "metadata": {},
   "source": [
    "---"
   ]
  },
  {
   "cell_type": "markdown",
   "id": "f6e0475c",
   "metadata": {},
   "source": [
    "## In this Notebook:\n",
    "\n",
    "In this Notebook you will find the preliminary cleaning of the data and a quick feature engineering related to the use of dates and qualifying times. \n",
    "\n",
    "1. [Our raw data](#1.-Raw-data) \n",
    "2. [Dropping unnecessary columns and merging](#2.-Dropping-unnecessary-columns-and-merging)\n",
    "3. [Data cleaning](#3.-Data-cleaning)\n",
    "4. [Preliminary feature engineering](#4.-Feature-engineering-(preliminary))  \n",
    "    4.1. [Drivers' age](#4.1.-Drivers'-age)  \n",
    "    4.2. [Quali delta time](#4.2.-Qualifying-time-delta)\n",
    "\n",
    "The following steps after preprocessing are 3. Exploratory Data Analysis and 4. Modeling."
   ]
  },
  {
   "cell_type": "markdown",
   "id": "ca32a5db",
   "metadata": {},
   "source": [
    "---"
   ]
  },
  {
   "cell_type": "code",
   "execution_count": 6,
   "id": "ee9dde1c",
   "metadata": {},
   "outputs": [],
   "source": [
    "# Import dependencies\n",
    "import pandas as pd\n",
    "import numpy as np\n",
    "import matplotlib.pyplot as plt"
   ]
  },
  {
   "cell_type": "markdown",
   "id": "2e8a359c",
   "metadata": {},
   "source": [
    "# 1. Raw data"
   ]
  },
  {
   "cell_type": "code",
   "execution_count": 2,
   "id": "bea14371",
   "metadata": {},
   "outputs": [],
   "source": [
    "races = pd.read_csv('data/races.csv')\n",
    "results = pd.read_csv('data/results.csv')\n",
    "qualifying = pd.read_csv('data/qualifying.csv')\n",
    "driver_standings = pd.read_csv('data/driver_standings.csv')\n",
    "constructor_standings = pd.read_csv('data/constructor_standings.csv')\n",
    "weather = pd.read_csv('data/weather.csv')"
   ]
  },
  {
   "cell_type": "code",
   "execution_count": 3,
   "id": "3620a0fc",
   "metadata": {},
   "outputs": [
    {
     "data": {
      "text/html": [
       "<div>\n",
       "<style scoped>\n",
       "    .dataframe tbody tr th:only-of-type {\n",
       "        vertical-align: middle;\n",
       "    }\n",
       "\n",
       "    .dataframe tbody tr th {\n",
       "        vertical-align: top;\n",
       "    }\n",
       "\n",
       "    .dataframe thead th {\n",
       "        text-align: right;\n",
       "    }\n",
       "</style>\n",
       "<table border=\"1\" class=\"dataframe\">\n",
       "  <thead>\n",
       "    <tr style=\"text-align: right;\">\n",
       "      <th></th>\n",
       "      <th>season</th>\n",
       "      <th>round</th>\n",
       "      <th>circuit_id</th>\n",
       "      <th>lat</th>\n",
       "      <th>long</th>\n",
       "      <th>country</th>\n",
       "      <th>date</th>\n",
       "      <th>url</th>\n",
       "    </tr>\n",
       "  </thead>\n",
       "  <tbody>\n",
       "    <tr>\n",
       "      <th>1054</th>\n",
       "      <td>2021</td>\n",
       "      <td>20</td>\n",
       "      <td>losail</td>\n",
       "      <td>25.4900</td>\n",
       "      <td>51.4542</td>\n",
       "      <td>Qatar</td>\n",
       "      <td>2021-11-21</td>\n",
       "      <td>http://en.wikipedia.org/wiki/2021_Qatar_Grand_...</td>\n",
       "    </tr>\n",
       "    <tr>\n",
       "      <th>1055</th>\n",
       "      <td>2021</td>\n",
       "      <td>21</td>\n",
       "      <td>jeddah</td>\n",
       "      <td>21.6319</td>\n",
       "      <td>39.1044</td>\n",
       "      <td>Saudi Arabia</td>\n",
       "      <td>2021-12-05</td>\n",
       "      <td>http://en.wikipedia.org/wiki/2021_Saudi_Arabia...</td>\n",
       "    </tr>\n",
       "    <tr>\n",
       "      <th>1056</th>\n",
       "      <td>2021</td>\n",
       "      <td>22</td>\n",
       "      <td>yas_marina</td>\n",
       "      <td>24.4672</td>\n",
       "      <td>54.6031</td>\n",
       "      <td>UAE</td>\n",
       "      <td>2021-12-12</td>\n",
       "      <td>http://en.wikipedia.org/wiki/2021_Abu_Dhabi_Gr...</td>\n",
       "    </tr>\n",
       "  </tbody>\n",
       "</table>\n",
       "</div>"
      ],
      "text/plain": [
       "      season  round  circuit_id      lat     long       country        date  \\\n",
       "1054    2021     20      losail  25.4900  51.4542         Qatar  2021-11-21   \n",
       "1055    2021     21      jeddah  21.6319  39.1044  Saudi Arabia  2021-12-05   \n",
       "1056    2021     22  yas_marina  24.4672  54.6031           UAE  2021-12-12   \n",
       "\n",
       "                                                    url  \n",
       "1054  http://en.wikipedia.org/wiki/2021_Qatar_Grand_...  \n",
       "1055  http://en.wikipedia.org/wiki/2021_Saudi_Arabia...  \n",
       "1056  http://en.wikipedia.org/wiki/2021_Abu_Dhabi_Gr...  "
      ]
     },
     "execution_count": 3,
     "metadata": {},
     "output_type": "execute_result"
    }
   ],
   "source": [
    "races.tail(3)"
   ]
  },
  {
   "cell_type": "code",
   "execution_count": 4,
   "id": "8c3dd365",
   "metadata": {},
   "outputs": [
    {
     "data": {
      "text/html": [
       "<div>\n",
       "<style scoped>\n",
       "    .dataframe tbody tr th:only-of-type {\n",
       "        vertical-align: middle;\n",
       "    }\n",
       "\n",
       "    .dataframe tbody tr th {\n",
       "        vertical-align: top;\n",
       "    }\n",
       "\n",
       "    .dataframe thead th {\n",
       "        text-align: right;\n",
       "    }\n",
       "</style>\n",
       "<table border=\"1\" class=\"dataframe\">\n",
       "  <thead>\n",
       "    <tr style=\"text-align: right;\">\n",
       "      <th></th>\n",
       "      <th>season</th>\n",
       "      <th>round</th>\n",
       "      <th>circuit_id</th>\n",
       "      <th>driver</th>\n",
       "      <th>date_of_birth</th>\n",
       "      <th>nationality</th>\n",
       "      <th>constructor</th>\n",
       "      <th>grid</th>\n",
       "      <th>time</th>\n",
       "      <th>status</th>\n",
       "      <th>points</th>\n",
       "      <th>podium</th>\n",
       "      <th>url</th>\n",
       "    </tr>\n",
       "  </thead>\n",
       "  <tbody>\n",
       "    <tr>\n",
       "      <th>24944</th>\n",
       "      <td>2021</td>\n",
       "      <td>22</td>\n",
       "      <td>yas_marina</td>\n",
       "      <td>russell</td>\n",
       "      <td>1998-02-15</td>\n",
       "      <td>British</td>\n",
       "      <td>williams</td>\n",
       "      <td>17</td>\n",
       "      <td>NaN</td>\n",
       "      <td>Gearbox</td>\n",
       "      <td>0.0</td>\n",
       "      <td>18</td>\n",
       "      <td>http://en.wikipedia.org/wiki/2021_Abu_Dhabi_Gr...</td>\n",
       "    </tr>\n",
       "    <tr>\n",
       "      <th>24945</th>\n",
       "      <td>2021</td>\n",
       "      <td>22</td>\n",
       "      <td>yas_marina</td>\n",
       "      <td>raikkonen</td>\n",
       "      <td>1979-10-17</td>\n",
       "      <td>Finnish</td>\n",
       "      <td>alfa</td>\n",
       "      <td>18</td>\n",
       "      <td>NaN</td>\n",
       "      <td>Brakes</td>\n",
       "      <td>0.0</td>\n",
       "      <td>19</td>\n",
       "      <td>http://en.wikipedia.org/wiki/2021_Abu_Dhabi_Gr...</td>\n",
       "    </tr>\n",
       "    <tr>\n",
       "      <th>24946</th>\n",
       "      <td>2021</td>\n",
       "      <td>22</td>\n",
       "      <td>yas_marina</td>\n",
       "      <td>mazepin</td>\n",
       "      <td>1999-03-02</td>\n",
       "      <td>Russian</td>\n",
       "      <td>haas</td>\n",
       "      <td>20</td>\n",
       "      <td>NaN</td>\n",
       "      <td>Illness</td>\n",
       "      <td>0.0</td>\n",
       "      <td>20</td>\n",
       "      <td>http://en.wikipedia.org/wiki/2021_Abu_Dhabi_Gr...</td>\n",
       "    </tr>\n",
       "  </tbody>\n",
       "</table>\n",
       "</div>"
      ],
      "text/plain": [
       "       season  round  circuit_id     driver date_of_birth nationality  \\\n",
       "24944    2021     22  yas_marina    russell    1998-02-15     British   \n",
       "24945    2021     22  yas_marina  raikkonen    1979-10-17     Finnish   \n",
       "24946    2021     22  yas_marina    mazepin    1999-03-02     Russian   \n",
       "\n",
       "      constructor  grid  time   status  points  podium  \\\n",
       "24944    williams    17   NaN  Gearbox     0.0      18   \n",
       "24945        alfa    18   NaN   Brakes     0.0      19   \n",
       "24946        haas    20   NaN  Illness     0.0      20   \n",
       "\n",
       "                                                     url  \n",
       "24944  http://en.wikipedia.org/wiki/2021_Abu_Dhabi_Gr...  \n",
       "24945  http://en.wikipedia.org/wiki/2021_Abu_Dhabi_Gr...  \n",
       "24946  http://en.wikipedia.org/wiki/2021_Abu_Dhabi_Gr...  "
      ]
     },
     "execution_count": 4,
     "metadata": {},
     "output_type": "execute_result"
    }
   ],
   "source": [
    "results.tail(3)"
   ]
  },
  {
   "cell_type": "code",
   "execution_count": 5,
   "id": "dd08fd24",
   "metadata": {
    "scrolled": true
   },
   "outputs": [
    {
     "data": {
      "text/html": [
       "<div>\n",
       "<style scoped>\n",
       "    .dataframe tbody tr th:only-of-type {\n",
       "        vertical-align: middle;\n",
       "    }\n",
       "\n",
       "    .dataframe tbody tr th {\n",
       "        vertical-align: top;\n",
       "    }\n",
       "\n",
       "    .dataframe thead th {\n",
       "        text-align: right;\n",
       "    }\n",
       "</style>\n",
       "<table border=\"1\" class=\"dataframe\">\n",
       "  <thead>\n",
       "    <tr style=\"text-align: right;\">\n",
       "      <th></th>\n",
       "      <th>grid_position</th>\n",
       "      <th>driver_name</th>\n",
       "      <th>car</th>\n",
       "      <th>qualifying_time</th>\n",
       "      <th>season</th>\n",
       "      <th>round</th>\n",
       "    </tr>\n",
       "  </thead>\n",
       "  <tbody>\n",
       "    <tr>\n",
       "      <th>15330</th>\n",
       "      <td>17</td>\n",
       "      <td>George  Russell  RUS</td>\n",
       "      <td>Williams Mercedes</td>\n",
       "      <td>1:24.423</td>\n",
       "      <td>2021</td>\n",
       "      <td>22</td>\n",
       "    </tr>\n",
       "    <tr>\n",
       "      <th>15331</th>\n",
       "      <td>18</td>\n",
       "      <td>Kimi  Räikkönen  RAI</td>\n",
       "      <td>Alfa Romeo Racing Ferrari</td>\n",
       "      <td>1:24.779</td>\n",
       "      <td>2021</td>\n",
       "      <td>22</td>\n",
       "    </tr>\n",
       "    <tr>\n",
       "      <th>15332</th>\n",
       "      <td>19</td>\n",
       "      <td>Mick  Schumacher  MSC</td>\n",
       "      <td>Haas Ferrari</td>\n",
       "      <td>1:24.906</td>\n",
       "      <td>2021</td>\n",
       "      <td>22</td>\n",
       "    </tr>\n",
       "  </tbody>\n",
       "</table>\n",
       "</div>"
      ],
      "text/plain": [
       "       grid_position            driver_name                        car  \\\n",
       "15330             17   George  Russell  RUS          Williams Mercedes   \n",
       "15331             18   Kimi  Räikkönen  RAI  Alfa Romeo Racing Ferrari   \n",
       "15332             19  Mick  Schumacher  MSC               Haas Ferrari   \n",
       "\n",
       "      qualifying_time  season  round  \n",
       "15330        1:24.423    2021     22  \n",
       "15331        1:24.779    2021     22  \n",
       "15332        1:24.906    2021     22  "
      ]
     },
     "execution_count": 5,
     "metadata": {},
     "output_type": "execute_result"
    }
   ],
   "source": [
    "qualifying.tail(3)"
   ]
  },
  {
   "cell_type": "code",
   "execution_count": 6,
   "id": "1a69c46e",
   "metadata": {},
   "outputs": [],
   "source": [
    "# quali.grid_position must be the same as results.grid\n",
    "\n",
    "qualifying.rename(columns = {'grid_position': 'grid'}, inplace = True)"
   ]
  },
  {
   "cell_type": "code",
   "execution_count": 7,
   "id": "1953f9c8",
   "metadata": {},
   "outputs": [
    {
     "data": {
      "text/html": [
       "<div>\n",
       "<style scoped>\n",
       "    .dataframe tbody tr th:only-of-type {\n",
       "        vertical-align: middle;\n",
       "    }\n",
       "\n",
       "    .dataframe tbody tr th {\n",
       "        vertical-align: top;\n",
       "    }\n",
       "\n",
       "    .dataframe thead th {\n",
       "        text-align: right;\n",
       "    }\n",
       "</style>\n",
       "<table border=\"1\" class=\"dataframe\">\n",
       "  <thead>\n",
       "    <tr style=\"text-align: right;\">\n",
       "      <th></th>\n",
       "      <th>season</th>\n",
       "      <th>round</th>\n",
       "      <th>driver</th>\n",
       "      <th>driver_points_after_race</th>\n",
       "      <th>driver_wins_after_race</th>\n",
       "      <th>driver_standings_pos_after_race</th>\n",
       "      <th>driver_points</th>\n",
       "      <th>driver_wins</th>\n",
       "      <th>driver_standings_pos</th>\n",
       "    </tr>\n",
       "  </thead>\n",
       "  <tbody>\n",
       "    <tr>\n",
       "      <th>27110</th>\n",
       "      <td>2021</td>\n",
       "      <td>22</td>\n",
       "      <td>mick_schumacher</td>\n",
       "      <td>0.0</td>\n",
       "      <td>0</td>\n",
       "      <td>19</td>\n",
       "      <td>0.0</td>\n",
       "      <td>0.0</td>\n",
       "      <td>19.0</td>\n",
       "    </tr>\n",
       "    <tr>\n",
       "      <th>27111</th>\n",
       "      <td>2021</td>\n",
       "      <td>22</td>\n",
       "      <td>kubica</td>\n",
       "      <td>0.0</td>\n",
       "      <td>0</td>\n",
       "      <td>20</td>\n",
       "      <td>0.0</td>\n",
       "      <td>0.0</td>\n",
       "      <td>20.0</td>\n",
       "    </tr>\n",
       "    <tr>\n",
       "      <th>27112</th>\n",
       "      <td>2021</td>\n",
       "      <td>22</td>\n",
       "      <td>mazepin</td>\n",
       "      <td>0.0</td>\n",
       "      <td>0</td>\n",
       "      <td>21</td>\n",
       "      <td>0.0</td>\n",
       "      <td>0.0</td>\n",
       "      <td>21.0</td>\n",
       "    </tr>\n",
       "  </tbody>\n",
       "</table>\n",
       "</div>"
      ],
      "text/plain": [
       "       season  round           driver  driver_points_after_race  \\\n",
       "27110    2021     22  mick_schumacher                       0.0   \n",
       "27111    2021     22           kubica                       0.0   \n",
       "27112    2021     22          mazepin                       0.0   \n",
       "\n",
       "       driver_wins_after_race  driver_standings_pos_after_race  driver_points  \\\n",
       "27110                       0                               19            0.0   \n",
       "27111                       0                               20            0.0   \n",
       "27112                       0                               21            0.0   \n",
       "\n",
       "       driver_wins  driver_standings_pos  \n",
       "27110          0.0                  19.0  \n",
       "27111          0.0                  20.0  \n",
       "27112          0.0                  21.0  "
      ]
     },
     "execution_count": 7,
     "metadata": {},
     "output_type": "execute_result"
    }
   ],
   "source": [
    "driver_standings.tail(3)"
   ]
  },
  {
   "cell_type": "code",
   "execution_count": 8,
   "id": "37fbe6ec",
   "metadata": {},
   "outputs": [
    {
     "data": {
      "text/html": [
       "<div>\n",
       "<style scoped>\n",
       "    .dataframe tbody tr th:only-of-type {\n",
       "        vertical-align: middle;\n",
       "    }\n",
       "\n",
       "    .dataframe tbody tr th {\n",
       "        vertical-align: top;\n",
       "    }\n",
       "\n",
       "    .dataframe thead th {\n",
       "        text-align: right;\n",
       "    }\n",
       "</style>\n",
       "<table border=\"1\" class=\"dataframe\">\n",
       "  <thead>\n",
       "    <tr style=\"text-align: right;\">\n",
       "      <th></th>\n",
       "      <th>season</th>\n",
       "      <th>round</th>\n",
       "      <th>constructor</th>\n",
       "      <th>constructor_points_after_race</th>\n",
       "      <th>constructor_wins_after_race</th>\n",
       "      <th>constructor_standings_pos_after_race</th>\n",
       "      <th>constructor_points</th>\n",
       "      <th>constructor_wins</th>\n",
       "      <th>constructor_standings_pos</th>\n",
       "    </tr>\n",
       "  </thead>\n",
       "  <tbody>\n",
       "    <tr>\n",
       "      <th>12708</th>\n",
       "      <td>2021</td>\n",
       "      <td>22</td>\n",
       "      <td>williams</td>\n",
       "      <td>23.0</td>\n",
       "      <td>0</td>\n",
       "      <td>8</td>\n",
       "      <td>23.0</td>\n",
       "      <td>0.0</td>\n",
       "      <td>8.0</td>\n",
       "    </tr>\n",
       "    <tr>\n",
       "      <th>12709</th>\n",
       "      <td>2021</td>\n",
       "      <td>22</td>\n",
       "      <td>alfa</td>\n",
       "      <td>13.0</td>\n",
       "      <td>0</td>\n",
       "      <td>9</td>\n",
       "      <td>13.0</td>\n",
       "      <td>0.0</td>\n",
       "      <td>9.0</td>\n",
       "    </tr>\n",
       "    <tr>\n",
       "      <th>12710</th>\n",
       "      <td>2021</td>\n",
       "      <td>22</td>\n",
       "      <td>haas</td>\n",
       "      <td>0.0</td>\n",
       "      <td>0</td>\n",
       "      <td>10</td>\n",
       "      <td>0.0</td>\n",
       "      <td>0.0</td>\n",
       "      <td>10.0</td>\n",
       "    </tr>\n",
       "  </tbody>\n",
       "</table>\n",
       "</div>"
      ],
      "text/plain": [
       "       season  round constructor  constructor_points_after_race  \\\n",
       "12708    2021     22    williams                           23.0   \n",
       "12709    2021     22        alfa                           13.0   \n",
       "12710    2021     22        haas                            0.0   \n",
       "\n",
       "       constructor_wins_after_race  constructor_standings_pos_after_race  \\\n",
       "12708                            0                                     8   \n",
       "12709                            0                                     9   \n",
       "12710                            0                                    10   \n",
       "\n",
       "       constructor_points  constructor_wins  constructor_standings_pos  \n",
       "12708                23.0               0.0                        8.0  \n",
       "12709                13.0               0.0                        9.0  \n",
       "12710                 0.0               0.0                       10.0  "
      ]
     },
     "execution_count": 8,
     "metadata": {},
     "output_type": "execute_result"
    }
   ],
   "source": [
    "constructor_standings.tail(3)"
   ]
  },
  {
   "cell_type": "code",
   "execution_count": 9,
   "id": "8f131686",
   "metadata": {},
   "outputs": [
    {
     "data": {
      "text/html": [
       "<div>\n",
       "<style scoped>\n",
       "    .dataframe tbody tr th:only-of-type {\n",
       "        vertical-align: middle;\n",
       "    }\n",
       "\n",
       "    .dataframe tbody tr th {\n",
       "        vertical-align: top;\n",
       "    }\n",
       "\n",
       "    .dataframe thead th {\n",
       "        text-align: right;\n",
       "    }\n",
       "</style>\n",
       "<table border=\"1\" class=\"dataframe\">\n",
       "  <thead>\n",
       "    <tr style=\"text-align: right;\">\n",
       "      <th></th>\n",
       "      <th>season</th>\n",
       "      <th>round</th>\n",
       "      <th>circuit_id</th>\n",
       "      <th>weather</th>\n",
       "      <th>weather_warm</th>\n",
       "      <th>weather_cold</th>\n",
       "      <th>weather_dry</th>\n",
       "      <th>weather_wet</th>\n",
       "      <th>weather_cloudy</th>\n",
       "    </tr>\n",
       "  </thead>\n",
       "  <tbody>\n",
       "    <tr>\n",
       "      <th>1054</th>\n",
       "      <td>2021</td>\n",
       "      <td>20</td>\n",
       "      <td>losail</td>\n",
       "      <td>Clear</td>\n",
       "      <td>1</td>\n",
       "      <td>0</td>\n",
       "      <td>0</td>\n",
       "      <td>0</td>\n",
       "      <td>0</td>\n",
       "    </tr>\n",
       "    <tr>\n",
       "      <th>1055</th>\n",
       "      <td>2021</td>\n",
       "      <td>21</td>\n",
       "      <td>jeddah</td>\n",
       "      <td>Clear</td>\n",
       "      <td>1</td>\n",
       "      <td>0</td>\n",
       "      <td>0</td>\n",
       "      <td>0</td>\n",
       "      <td>0</td>\n",
       "    </tr>\n",
       "    <tr>\n",
       "      <th>1056</th>\n",
       "      <td>2021</td>\n",
       "      <td>22</td>\n",
       "      <td>yas_marina</td>\n",
       "      <td>Clear</td>\n",
       "      <td>1</td>\n",
       "      <td>0</td>\n",
       "      <td>0</td>\n",
       "      <td>0</td>\n",
       "      <td>0</td>\n",
       "    </tr>\n",
       "  </tbody>\n",
       "</table>\n",
       "</div>"
      ],
      "text/plain": [
       "      season  round  circuit_id weather  weather_warm  weather_cold  \\\n",
       "1054    2021     20      losail   Clear             1             0   \n",
       "1055    2021     21      jeddah   Clear             1             0   \n",
       "1056    2021     22  yas_marina   Clear             1             0   \n",
       "\n",
       "      weather_dry  weather_wet  weather_cloudy  \n",
       "1054            0            0               0  \n",
       "1055            0            0               0  \n",
       "1056            0            0               0  "
      ]
     },
     "execution_count": 9,
     "metadata": {},
     "output_type": "execute_result"
    }
   ],
   "source": [
    "weather.tail(3)"
   ]
  },
  {
   "cell_type": "markdown",
   "id": "2525ddaf",
   "metadata": {},
   "source": [
    "# 2. Dropping redundant columns and merging"
   ]
  },
  {
   "cell_type": "code",
   "execution_count": 10,
   "id": "89038d1e",
   "metadata": {},
   "outputs": [
    {
     "data": {
      "text/html": [
       "<div>\n",
       "<style scoped>\n",
       "    .dataframe tbody tr th:only-of-type {\n",
       "        vertical-align: middle;\n",
       "    }\n",
       "\n",
       "    .dataframe tbody tr th {\n",
       "        vertical-align: top;\n",
       "    }\n",
       "\n",
       "    .dataframe thead th {\n",
       "        text-align: right;\n",
       "    }\n",
       "</style>\n",
       "<table border=\"1\" class=\"dataframe\">\n",
       "  <thead>\n",
       "    <tr style=\"text-align: right;\">\n",
       "      <th></th>\n",
       "      <th>season</th>\n",
       "      <th>round</th>\n",
       "      <th>driver</th>\n",
       "      <th>driver_points</th>\n",
       "      <th>driver_wins</th>\n",
       "      <th>driver_standings_pos</th>\n",
       "    </tr>\n",
       "  </thead>\n",
       "  <tbody>\n",
       "    <tr>\n",
       "      <th>27110</th>\n",
       "      <td>2021</td>\n",
       "      <td>22</td>\n",
       "      <td>mick_schumacher</td>\n",
       "      <td>0.0</td>\n",
       "      <td>0.0</td>\n",
       "      <td>19.0</td>\n",
       "    </tr>\n",
       "    <tr>\n",
       "      <th>27111</th>\n",
       "      <td>2021</td>\n",
       "      <td>22</td>\n",
       "      <td>kubica</td>\n",
       "      <td>0.0</td>\n",
       "      <td>0.0</td>\n",
       "      <td>20.0</td>\n",
       "    </tr>\n",
       "    <tr>\n",
       "      <th>27112</th>\n",
       "      <td>2021</td>\n",
       "      <td>22</td>\n",
       "      <td>mazepin</td>\n",
       "      <td>0.0</td>\n",
       "      <td>0.0</td>\n",
       "      <td>21.0</td>\n",
       "    </tr>\n",
       "  </tbody>\n",
       "</table>\n",
       "</div>"
      ],
      "text/plain": [
       "       season  round           driver  driver_points  driver_wins  \\\n",
       "27110    2021     22  mick_schumacher            0.0          0.0   \n",
       "27111    2021     22           kubica            0.0          0.0   \n",
       "27112    2021     22          mazepin            0.0          0.0   \n",
       "\n",
       "       driver_standings_pos  \n",
       "27110                  19.0  \n",
       "27111                  20.0  \n",
       "27112                  21.0  "
      ]
     },
     "execution_count": 10,
     "metadata": {},
     "output_type": "execute_result"
    }
   ],
   "source": [
    "driver_standings.drop(['driver_points_after_race', 'driver_wins_after_race', 'driver_standings_pos_after_race'] ,axis = 1, inplace = True)\n",
    "driver_standings.tail(3)"
   ]
  },
  {
   "cell_type": "code",
   "execution_count": 11,
   "id": "8cbc2b82",
   "metadata": {},
   "outputs": [
    {
     "data": {
      "text/html": [
       "<div>\n",
       "<style scoped>\n",
       "    .dataframe tbody tr th:only-of-type {\n",
       "        vertical-align: middle;\n",
       "    }\n",
       "\n",
       "    .dataframe tbody tr th {\n",
       "        vertical-align: top;\n",
       "    }\n",
       "\n",
       "    .dataframe thead th {\n",
       "        text-align: right;\n",
       "    }\n",
       "</style>\n",
       "<table border=\"1\" class=\"dataframe\">\n",
       "  <thead>\n",
       "    <tr style=\"text-align: right;\">\n",
       "      <th></th>\n",
       "      <th>season</th>\n",
       "      <th>round</th>\n",
       "      <th>constructor</th>\n",
       "      <th>constructor_points</th>\n",
       "      <th>constructor_wins</th>\n",
       "      <th>constructor_standings_pos</th>\n",
       "    </tr>\n",
       "  </thead>\n",
       "  <tbody>\n",
       "    <tr>\n",
       "      <th>12708</th>\n",
       "      <td>2021</td>\n",
       "      <td>22</td>\n",
       "      <td>williams</td>\n",
       "      <td>23.0</td>\n",
       "      <td>0.0</td>\n",
       "      <td>8.0</td>\n",
       "    </tr>\n",
       "    <tr>\n",
       "      <th>12709</th>\n",
       "      <td>2021</td>\n",
       "      <td>22</td>\n",
       "      <td>alfa</td>\n",
       "      <td>13.0</td>\n",
       "      <td>0.0</td>\n",
       "      <td>9.0</td>\n",
       "    </tr>\n",
       "    <tr>\n",
       "      <th>12710</th>\n",
       "      <td>2021</td>\n",
       "      <td>22</td>\n",
       "      <td>haas</td>\n",
       "      <td>0.0</td>\n",
       "      <td>0.0</td>\n",
       "      <td>10.0</td>\n",
       "    </tr>\n",
       "  </tbody>\n",
       "</table>\n",
       "</div>"
      ],
      "text/plain": [
       "       season  round constructor  constructor_points  constructor_wins  \\\n",
       "12708    2021     22    williams                23.0               0.0   \n",
       "12709    2021     22        alfa                13.0               0.0   \n",
       "12710    2021     22        haas                 0.0               0.0   \n",
       "\n",
       "       constructor_standings_pos  \n",
       "12708                        8.0  \n",
       "12709                        9.0  \n",
       "12710                       10.0  "
      ]
     },
     "execution_count": 11,
     "metadata": {},
     "output_type": "execute_result"
    }
   ],
   "source": [
    "constructor_standings.drop(['constructor_points_after_race', 'constructor_wins_after_race','constructor_standings_pos_after_race' ],axis = 1, inplace = True)\n",
    "constructor_standings.tail(3)"
   ]
  },
  {
   "cell_type": "code",
   "execution_count": 12,
   "id": "47f97f03",
   "metadata": {},
   "outputs": [],
   "source": [
    "# Merging\n",
    "df_1 = pd.merge(races, weather, how='inner', on=['season', 'round', 'circuit_id']).drop(['lat', 'long','country'], axis = 1)\n",
    "df_2 = pd.merge(df_1, results, how='inner', on=['season', 'round', 'circuit_id', 'url']).drop(['url','points', 'status', 'time'], axis = 1)\n",
    "df_3 = pd.merge(df_2, driver_standings, how='left', on=['season', 'round', 'driver']) \n",
    "df_4 = pd.merge(df_3, constructor_standings, how='left', on=['season', 'round', 'constructor']) #from 1958\n",
    "\n",
    "final_df = pd.merge(df_4, qualifying, how='inner', on=['season', 'round', 'grid']).drop(['driver_name', 'car'], axis = 1) # from 1983 onwards"
   ]
  },
  {
   "cell_type": "code",
   "execution_count": 13,
   "id": "1ab864b5",
   "metadata": {},
   "outputs": [
    {
     "data": {
      "text/html": [
       "<div>\n",
       "<style scoped>\n",
       "    .dataframe tbody tr th:only-of-type {\n",
       "        vertical-align: middle;\n",
       "    }\n",
       "\n",
       "    .dataframe tbody tr th {\n",
       "        vertical-align: top;\n",
       "    }\n",
       "\n",
       "    .dataframe thead th {\n",
       "        text-align: right;\n",
       "    }\n",
       "</style>\n",
       "<table border=\"1\" class=\"dataframe\">\n",
       "  <thead>\n",
       "    <tr style=\"text-align: right;\">\n",
       "      <th></th>\n",
       "      <th>season</th>\n",
       "      <th>round</th>\n",
       "      <th>circuit_id</th>\n",
       "      <th>date</th>\n",
       "      <th>weather</th>\n",
       "      <th>weather_warm</th>\n",
       "      <th>weather_cold</th>\n",
       "      <th>weather_dry</th>\n",
       "      <th>weather_wet</th>\n",
       "      <th>weather_cloudy</th>\n",
       "      <th>...</th>\n",
       "      <th>constructor</th>\n",
       "      <th>grid</th>\n",
       "      <th>podium</th>\n",
       "      <th>driver_points</th>\n",
       "      <th>driver_wins</th>\n",
       "      <th>driver_standings_pos</th>\n",
       "      <th>constructor_points</th>\n",
       "      <th>constructor_wins</th>\n",
       "      <th>constructor_standings_pos</th>\n",
       "      <th>qualifying_time</th>\n",
       "    </tr>\n",
       "  </thead>\n",
       "  <tbody>\n",
       "    <tr>\n",
       "      <th>15295</th>\n",
       "      <td>2021</td>\n",
       "      <td>22</td>\n",
       "      <td>yas_marina</td>\n",
       "      <td>2021-12-12</td>\n",
       "      <td>Clear</td>\n",
       "      <td>1</td>\n",
       "      <td>0</td>\n",
       "      <td>0</td>\n",
       "      <td>0</td>\n",
       "      <td>0</td>\n",
       "      <td>...</td>\n",
       "      <td>alfa</td>\n",
       "      <td>14</td>\n",
       "      <td>17</td>\n",
       "      <td>3.0</td>\n",
       "      <td>0.0</td>\n",
       "      <td>18.0</td>\n",
       "      <td>13.0</td>\n",
       "      <td>0.0</td>\n",
       "      <td>9.0</td>\n",
       "      <td>1:24.251</td>\n",
       "    </tr>\n",
       "    <tr>\n",
       "      <th>15296</th>\n",
       "      <td>2021</td>\n",
       "      <td>22</td>\n",
       "      <td>yas_marina</td>\n",
       "      <td>2021-12-12</td>\n",
       "      <td>Clear</td>\n",
       "      <td>1</td>\n",
       "      <td>0</td>\n",
       "      <td>0</td>\n",
       "      <td>0</td>\n",
       "      <td>0</td>\n",
       "      <td>...</td>\n",
       "      <td>williams</td>\n",
       "      <td>17</td>\n",
       "      <td>18</td>\n",
       "      <td>16.0</td>\n",
       "      <td>0.0</td>\n",
       "      <td>15.0</td>\n",
       "      <td>23.0</td>\n",
       "      <td>0.0</td>\n",
       "      <td>8.0</td>\n",
       "      <td>1:24.423</td>\n",
       "    </tr>\n",
       "    <tr>\n",
       "      <th>15297</th>\n",
       "      <td>2021</td>\n",
       "      <td>22</td>\n",
       "      <td>yas_marina</td>\n",
       "      <td>2021-12-12</td>\n",
       "      <td>Clear</td>\n",
       "      <td>1</td>\n",
       "      <td>0</td>\n",
       "      <td>0</td>\n",
       "      <td>0</td>\n",
       "      <td>0</td>\n",
       "      <td>...</td>\n",
       "      <td>alfa</td>\n",
       "      <td>18</td>\n",
       "      <td>19</td>\n",
       "      <td>10.0</td>\n",
       "      <td>0.0</td>\n",
       "      <td>16.0</td>\n",
       "      <td>13.0</td>\n",
       "      <td>0.0</td>\n",
       "      <td>9.0</td>\n",
       "      <td>1:24.779</td>\n",
       "    </tr>\n",
       "  </tbody>\n",
       "</table>\n",
       "<p>3 rows × 23 columns</p>\n",
       "</div>"
      ],
      "text/plain": [
       "       season  round  circuit_id        date weather  weather_warm  \\\n",
       "15295    2021     22  yas_marina  2021-12-12   Clear             1   \n",
       "15296    2021     22  yas_marina  2021-12-12   Clear             1   \n",
       "15297    2021     22  yas_marina  2021-12-12   Clear             1   \n",
       "\n",
       "       weather_cold  weather_dry  weather_wet  weather_cloudy  ...  \\\n",
       "15295             0            0            0               0  ...   \n",
       "15296             0            0            0               0  ...   \n",
       "15297             0            0            0               0  ...   \n",
       "\n",
       "      constructor grid podium driver_points  driver_wins  \\\n",
       "15295        alfa   14     17           3.0          0.0   \n",
       "15296    williams   17     18          16.0          0.0   \n",
       "15297        alfa   18     19          10.0          0.0   \n",
       "\n",
       "       driver_standings_pos  constructor_points  constructor_wins  \\\n",
       "15295                  18.0                13.0               0.0   \n",
       "15296                  15.0                23.0               0.0   \n",
       "15297                  16.0                13.0               0.0   \n",
       "\n",
       "       constructor_standings_pos  qualifying_time  \n",
       "15295                        9.0         1:24.251  \n",
       "15296                        8.0         1:24.423  \n",
       "15297                        9.0         1:24.779  \n",
       "\n",
       "[3 rows x 23 columns]"
      ]
     },
     "execution_count": 13,
     "metadata": {},
     "output_type": "execute_result"
    }
   ],
   "source": [
    "final_df.tail(3)"
   ]
  },
  {
   "cell_type": "code",
   "execution_count": 14,
   "id": "5dd0a88b",
   "metadata": {
    "scrolled": true
   },
   "outputs": [
    {
     "data": {
      "text/plain": [
       "Index(['season', 'round', 'circuit_id', 'date', 'weather', 'weather_warm',\n",
       "       'weather_cold', 'weather_dry', 'weather_wet', 'weather_cloudy',\n",
       "       'driver', 'date_of_birth', 'nationality', 'constructor', 'grid',\n",
       "       'podium', 'driver_points', 'driver_wins', 'driver_standings_pos',\n",
       "       'constructor_points', 'constructor_wins', 'constructor_standings_pos',\n",
       "       'qualifying_time'],\n",
       "      dtype='object')"
      ]
     },
     "execution_count": 14,
     "metadata": {},
     "output_type": "execute_result"
    }
   ],
   "source": [
    "final_df.columns"
   ]
  },
  {
   "cell_type": "code",
   "execution_count": 15,
   "id": "285613bf",
   "metadata": {},
   "outputs": [
    {
     "data": {
      "text/plain": [
       "(15298, 23)"
      ]
     },
     "execution_count": 15,
     "metadata": {},
     "output_type": "execute_result"
    }
   ],
   "source": [
    "final_df.shape"
   ]
  },
  {
   "cell_type": "markdown",
   "id": "b7d6e583",
   "metadata": {},
   "source": [
    "# 3. Data cleaning"
   ]
  },
  {
   "cell_type": "code",
   "execution_count": 16,
   "id": "9145eaea",
   "metadata": {},
   "outputs": [
    {
     "name": "stdout",
     "output_type": "stream",
     "text": [
      "<class 'pandas.core.frame.DataFrame'>\n",
      "Int64Index: 15298 entries, 0 to 15297\n",
      "Data columns (total 23 columns):\n",
      " #   Column                     Non-Null Count  Dtype  \n",
      "---  ------                     --------------  -----  \n",
      " 0   season                     15298 non-null  int64  \n",
      " 1   round                      15298 non-null  int64  \n",
      " 2   circuit_id                 15298 non-null  object \n",
      " 3   date                       15298 non-null  object \n",
      " 4   weather                    15298 non-null  object \n",
      " 5   weather_warm               15298 non-null  int64  \n",
      " 6   weather_cold               15298 non-null  int64  \n",
      " 7   weather_dry                15298 non-null  int64  \n",
      " 8   weather_wet                15298 non-null  int64  \n",
      " 9   weather_cloudy             15298 non-null  int64  \n",
      " 10  driver                     15298 non-null  object \n",
      " 11  date_of_birth              15298 non-null  object \n",
      " 12  nationality                15298 non-null  object \n",
      " 13  constructor                15298 non-null  object \n",
      " 14  grid                       15298 non-null  int64  \n",
      " 15  podium                     15298 non-null  int64  \n",
      " 16  driver_points              14747 non-null  float64\n",
      " 17  driver_wins                14747 non-null  float64\n",
      " 18  driver_standings_pos       14747 non-null  float64\n",
      " 19  constructor_points         15142 non-null  float64\n",
      " 20  constructor_wins           15142 non-null  float64\n",
      " 21  constructor_standings_pos  15142 non-null  float64\n",
      " 22  qualifying_time            14963 non-null  object \n",
      "dtypes: float64(6), int64(9), object(8)\n",
      "memory usage: 2.8+ MB\n"
     ]
    }
   ],
   "source": [
    "final_df.info()"
   ]
  },
  {
   "cell_type": "code",
   "execution_count": 17,
   "id": "2ceeb25f",
   "metadata": {
    "scrolled": false
   },
   "outputs": [
    {
     "data": {
      "text/plain": [
       "season                       0.000000\n",
       "round                        0.000000\n",
       "circuit_id                   0.000000\n",
       "date                         0.000000\n",
       "weather                      0.000000\n",
       "weather_warm                 0.000000\n",
       "weather_cold                 0.000000\n",
       "weather_dry                  0.000000\n",
       "weather_wet                  0.000000\n",
       "weather_cloudy               0.000000\n",
       "driver                       0.000000\n",
       "date_of_birth                0.000000\n",
       "nationality                  0.000000\n",
       "constructor                  0.000000\n",
       "grid                         0.000000\n",
       "podium                       0.000000\n",
       "driver_points                0.036018\n",
       "driver_wins                  0.036018\n",
       "driver_standings_pos         0.036018\n",
       "constructor_points           0.010197\n",
       "constructor_wins             0.010197\n",
       "constructor_standings_pos    0.010197\n",
       "qualifying_time              0.021898\n",
       "dtype: float64"
      ]
     },
     "execution_count": 17,
     "metadata": {},
     "output_type": "execute_result"
    }
   ],
   "source": [
    "final_df.isna().sum()/len(final_df) # what PERCENTAGE of our values are null? Very few, we can drop"
   ]
  },
  {
   "cell_type": "markdown",
   "id": "be281524",
   "metadata": {},
   "source": [
    "**Note** for 'driver_points', 'driver_wins', 'driver_standings_pos', 'constructor_points','constructor_wins' and 'constructor_standings_pos', we can replace the null values by zero. We cannot do the same with qualifying_time, since a qualifying time of zero corresponds to an infinitely fast car... In this case we replace them with the average qualifying time of that team for that circuit."
   ]
  },
  {
   "cell_type": "code",
   "execution_count": 18,
   "id": "78f0b881",
   "metadata": {},
   "outputs": [],
   "source": [
    "# fill/drop nulls. Not for quali_times, those will be handeled later\n",
    "for col in ['driver_points', 'driver_wins', 'driver_standings_pos', 'constructor_points', 'constructor_wins' , 'constructor_standings_pos']:\n",
    "    final_df[col].fillna(0, inplace = True)\n",
    "    final_df[col] = final_df[col].map(lambda x: int(x))"
   ]
  },
  {
   "cell_type": "markdown",
   "id": "066a3074",
   "metadata": {},
   "source": [
    "# 4. Feature engineering (preliminary)"
   ]
  },
  {
   "cell_type": "markdown",
   "id": "902511a3",
   "metadata": {},
   "source": [
    "## 4.1. Drivers' age"
   ]
  },
  {
   "cell_type": "code",
   "execution_count": 19,
   "id": "66fb927e",
   "metadata": {},
   "outputs": [],
   "source": [
    "# having current dates and birth dates by themselves is useless so we calculate the drivers' ages with them\n",
    "\n",
    "from dateutil.relativedelta import *\n",
    "\n",
    "final_df['date'] = pd.to_datetime(final_df.date) # change data type to date\n",
    "final_df['date_of_birth'] = pd.to_datetime(final_df.date_of_birth) # change data type to date\n",
    "final_df['driver_age'] = final_df.apply(lambda x: relativedelta(x['date'], x['date_of_birth']).years, axis=1) # calc age\n",
    "final_df.drop(['date', 'date_of_birth'], axis = 1, inplace = True) # drop"
   ]
  },
  {
   "cell_type": "code",
   "execution_count": 20,
   "id": "1717e113",
   "metadata": {},
   "outputs": [
    {
     "data": {
      "text/plain": [
       "(15298, 22)"
      ]
     },
     "execution_count": 20,
     "metadata": {},
     "output_type": "execute_result"
    }
   ],
   "source": [
    "final_df.shape"
   ]
  },
  {
   "cell_type": "markdown",
   "id": "0cd996f6",
   "metadata": {},
   "source": [
    "## 4.2. Qualifying time delta"
   ]
  },
  {
   "cell_type": "code",
   "execution_count": 21,
   "id": "6a8d24c8",
   "metadata": {},
   "outputs": [
    {
     "data": {
      "text/plain": [
       "season                        0\n",
       "round                         0\n",
       "circuit_id                    0\n",
       "weather                       0\n",
       "weather_warm                  0\n",
       "weather_cold                  0\n",
       "weather_dry                   0\n",
       "weather_wet                   0\n",
       "weather_cloudy                0\n",
       "driver                        0\n",
       "nationality                   0\n",
       "constructor                   0\n",
       "grid                          0\n",
       "podium                        0\n",
       "driver_points                 0\n",
       "driver_wins                   0\n",
       "driver_standings_pos          0\n",
       "constructor_points            0\n",
       "constructor_wins              0\n",
       "constructor_standings_pos     0\n",
       "qualifying_time              70\n",
       "driver_age                    0\n",
       "dtype: int64"
      ]
     },
     "execution_count": 21,
     "metadata": {},
     "output_type": "execute_result"
    }
   ],
   "source": [
    "# check for null values in season 2021\n",
    "final_df_2021 = final_df[final_df['season'] == 2021]\n",
    "final_df_2021.isna().sum()"
   ]
  },
  {
   "cell_type": "code",
   "execution_count": 22,
   "id": "272d5dec",
   "metadata": {},
   "outputs": [],
   "source": [
    "# remove the minutes from qualifying times\n",
    "final_df['qualifying_time'] = final_df['qualifying_time'].apply(lambda x: float(x.split(':')[1]) if (len(str(x)) >= 8) else x)\n",
    "\n",
    "# convert all to float in only seconds\n",
    "final_df['qualifying_time'] = final_df['qualifying_time'].astype(float)\n",
    "\n",
    "# remove the 2020 Bahrain Grand Prix, as values are corrupted\n",
    "final_df = final_df.drop(final_df[(final_df['circuit_id'] == 'bahrain') & (final_df['season'] == 2020)].index)\n",
    "\n",
    "# fill quali nan's with the average time of the team in that circuit and that season. \n",
    "# cascading imputation\n",
    "final_df['qualifying_time'] = final_df['qualifying_time'].fillna(final_df.groupby(['circuit_id', 'constructor', 'season'])['qualifying_time'].transform('mean'))\n",
    "final_df['qualifying_time'] = final_df['qualifying_time'].fillna(final_df.groupby(['circuit_id', 'constructor'])['qualifying_time'].transform('mean'))\n",
    "final_df['qualifying_time'] = final_df['qualifying_time'].fillna(final_df.groupby(['circuit_id'])['qualifying_time'].transform('mean'))\n",
    "\n",
    "# calculate delta in qualifying times\n",
    "final_df = final_df[final_df['qualifying_time'] != 0] \n",
    "final_df.sort_values(['season', 'round', 'grid'], inplace = True)\n",
    "final_df['qualifying_time_diff'] = final_df.groupby(['season', 'round']).qualifying_time.diff()\n",
    "final_df['qualifying_time'] = final_df.groupby(['season', 'round']).qualifying_time_diff.cumsum().fillna(0)\n",
    "final_df.drop('qualifying_time_diff', axis = 1, inplace = True)"
   ]
  },
  {
   "cell_type": "code",
   "execution_count": 40,
   "id": "cbfc3274",
   "metadata": {
    "scrolled": true
   },
   "outputs": [],
   "source": [
    "# check if we have all races for 2021 season\n",
    "have=list(final_df_2021.circuit_id.unique()) # 22 races\n",
    "musthave=list(races[races['season'] == 2021].circuit_id.reset_index(drop=True).unique()) # 22 races\n",
    "have==musthave"
   ]
  },
  {
   "cell_type": "code",
   "execution_count": 25,
   "id": "4e4b5021",
   "metadata": {},
   "outputs": [],
   "source": [
    "# get dummies\n",
    "\n",
    "df_dum = pd.get_dummies(final_df, columns = ['circuit_id', 'nationality', 'constructor'] )\n",
    "\n",
    "# drop dummy columns that do not have enough 1's\n",
    "\n",
    "for col in df_dum.columns:\n",
    "    if 'nationality' in col and df_dum[col].sum() < 140:\n",
    "        df_dum.drop(col, axis = 1, inplace = True)\n",
    "        \n",
    "    elif 'constructor' in col and df_dum[col].sum() < 140:\n",
    "        df_dum.drop(col, axis = 1, inplace = True)\n",
    "        \n",
    "    elif 'circuit_id' in col and df_dum[col].sum() < 70:\n",
    "        df_dum.drop(col, axis = 1, inplace = True)\n",
    "    \n",
    "    else:\n",
    "        pass"
   ]
  },
  {
   "cell_type": "code",
   "execution_count": 26,
   "id": "5ffa41fb",
   "metadata": {},
   "outputs": [
    {
     "data": {
      "text/plain": [
       "(15254, 103)"
      ]
     },
     "execution_count": 26,
     "metadata": {},
     "output_type": "execute_result"
    }
   ],
   "source": [
    "df_dum.shape"
   ]
  },
  {
   "cell_type": "code",
   "execution_count": 27,
   "id": "a4ccc39b",
   "metadata": {},
   "outputs": [
    {
     "data": {
      "text/plain": [
       "(15254, 22)"
      ]
     },
     "execution_count": 27,
     "metadata": {},
     "output_type": "execute_result"
    }
   ],
   "source": [
    "final_df.shape"
   ]
  },
  {
   "cell_type": "code",
   "execution_count": 29,
   "id": "a9605a32",
   "metadata": {},
   "outputs": [],
   "source": [
    "final_df.to_csv('data/df_no_dummies.csv', index=False)"
   ]
  },
  {
   "cell_type": "markdown",
   "id": "51a26ad7",
   "metadata": {},
   "source": [
    "## Next step: EDA"
   ]
  }
 ],
 "metadata": {
  "kernelspec": {
   "display_name": "Python 3.9.7 ('pythonProject')",
   "language": "python",
   "name": "python3"
  },
  "language_info": {
   "codemirror_mode": {
    "name": "ipython",
    "version": 3
   },
   "file_extension": ".py",
   "mimetype": "text/x-python",
   "name": "python",
   "nbconvert_exporter": "python",
   "pygments_lexer": "ipython3",
   "version": "3.9.7"
  },
  "vscode": {
   "interpreter": {
    "hash": "be326176f1860ecec032b2d370b4985588c42454c06063bc47efcf5146e75e12"
   }
  }
 },
 "nbformat": 4,
 "nbformat_minor": 5
}
