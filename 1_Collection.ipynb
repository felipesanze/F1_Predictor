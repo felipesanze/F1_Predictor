{
 "cells": [
  {
   "cell_type": "markdown",
   "id": "257c786a",
   "metadata": {},
   "source": [
    "<h1><center>F1 RACE PREDICTOR</center></h1>\n",
    "<h1><center>1. Data Collection</center></h1>"
   ]
  },
  {
   "cell_type": "markdown",
   "id": "a8dc84ec",
   "metadata": {},
   "source": [
    "---"
   ]
  },
  {
   "cell_type": "markdown",
   "id": "410536ee",
   "metadata": {},
   "source": [
    "## In this Notebook:\n",
    "\n",
    "In this Notebook you will find the data collection part of the F1 predictor project. \n",
    "\n",
    "It consists of the web scraping of the 7 main DataFrames we will use for this project. \n",
    "\n",
    "1. [Races](#1.-Races)\n",
    "2. [Rounds](#2.-Rounds)\n",
    "3. [Results](#3.-Results)\n",
    "4. [Drivers Championship](#4.-Drivers-Championship)\n",
    "5. [Constructors Championship](#5.-Constructors-Championship)\n",
    "6. [Qualifying](#6.-Qualifying)\n",
    "7. [Weather](#7.-Weather)\n",
    "\n",
    "The data was scraped from either the [Ergast F1 API](https://ergast.com/mrd/) or directly from the [F1 website](https://www.formula1.com/).\n",
    "\n",
    "The logic for the scraping algorithms was based off of Veronica Nigro's GitHub project."
   ]
  },
  {
   "cell_type": "markdown",
   "id": "8823d51a",
   "metadata": {},
   "source": [
    "---"
   ]
  },
  {
   "cell_type": "code",
   "execution_count": 4,
   "id": "a5678dd3",
   "metadata": {},
   "outputs": [],
   "source": [
    "# Import dependencies\n",
    "import pandas as pd\n",
    "import numpy as np\n",
    "from pprint import pprint\n",
    "import requests\n",
    "\n",
    "from selenium import webdriver\n",
    "import bs4\n",
    "from bs4 import BeautifulSoup\n",
    "import time"
   ]
  },
  {
   "cell_type": "markdown",
   "id": "9e799b91",
   "metadata": {},
   "source": [
    "# 1. Races"
   ]
  },
  {
   "cell_type": "code",
   "execution_count": 2,
   "id": "9991d4b9",
   "metadata": {},
   "outputs": [
    {
     "name": "stdout",
     "output_type": "stream",
     "text": [
      "(1057, 8)\n"
     ]
    }
   ],
   "source": [
    "races = {'season': [],\n",
    "        'round': [],\n",
    "        'circuit_id': [],\n",
    "        'lat': [],\n",
    "        'long': [],\n",
    "        'country': [],\n",
    "        'date': [],\n",
    "        'url': []}\n",
    "\n",
    "for year in list(range(1950,2022)):\n",
    "    \n",
    "    url = 'https://ergast.com/api/f1/{}.json'\n",
    "    r = requests.get(url.format(year))\n",
    "    json = r.json()\n",
    "\n",
    "    for item in json['MRData']['RaceTable']['Races']:\n",
    "        try:\n",
    "            races['season'].append(int(item['season']))\n",
    "        except:\n",
    "            races['season'].append(None)\n",
    "\n",
    "        try:\n",
    "            races['round'].append(int(item['round']))\n",
    "        except:\n",
    "            races['round'].append(None)\n",
    "\n",
    "        try:\n",
    "            races['circuit_id'].append(item['Circuit']['circuitId'])\n",
    "        except:\n",
    "            races['circuit_id'].append(None)\n",
    "\n",
    "        try:\n",
    "            races['lat'].append(float(item['Circuit']['Location']['lat']))\n",
    "        except:\n",
    "            races['lat'].append(None)\n",
    "\n",
    "        try:\n",
    "            races['long'].append(float(item['Circuit']['Location']['long']))\n",
    "        except:\n",
    "            races['long'].append(None)\n",
    "\n",
    "        try:\n",
    "            races['country'].append(item['Circuit']['Location']['country'])\n",
    "        except:\n",
    "            races['country'].append(None)\n",
    "\n",
    "        try:\n",
    "            races['date'].append(item['date'])\n",
    "        except:\n",
    "            races['date'].append(None)\n",
    "\n",
    "        try:\n",
    "            races['url'].append(item['url'])\n",
    "        except:\n",
    "            races['url'].append(None)\n",
    "        \n",
    "races = pd.DataFrame(races)\n",
    "print(races.shape)"
   ]
  },
  {
   "cell_type": "code",
   "execution_count": 3,
   "id": "1f4c1c65",
   "metadata": {},
   "outputs": [
    {
     "data": {
      "text/html": [
       "<div>\n",
       "<style scoped>\n",
       "    .dataframe tbody tr th:only-of-type {\n",
       "        vertical-align: middle;\n",
       "    }\n",
       "\n",
       "    .dataframe tbody tr th {\n",
       "        vertical-align: top;\n",
       "    }\n",
       "\n",
       "    .dataframe thead th {\n",
       "        text-align: right;\n",
       "    }\n",
       "</style>\n",
       "<table border=\"1\" class=\"dataframe\">\n",
       "  <thead>\n",
       "    <tr style=\"text-align: right;\">\n",
       "      <th></th>\n",
       "      <th>season</th>\n",
       "      <th>round</th>\n",
       "      <th>circuit_id</th>\n",
       "      <th>lat</th>\n",
       "      <th>long</th>\n",
       "      <th>country</th>\n",
       "      <th>date</th>\n",
       "      <th>url</th>\n",
       "    </tr>\n",
       "  </thead>\n",
       "  <tbody>\n",
       "    <tr>\n",
       "      <th>1054</th>\n",
       "      <td>2021</td>\n",
       "      <td>20</td>\n",
       "      <td>losail</td>\n",
       "      <td>25.4900</td>\n",
       "      <td>51.4542</td>\n",
       "      <td>Qatar</td>\n",
       "      <td>2021-11-21</td>\n",
       "      <td>http://en.wikipedia.org/wiki/2021_Qatar_Grand_...</td>\n",
       "    </tr>\n",
       "    <tr>\n",
       "      <th>1055</th>\n",
       "      <td>2021</td>\n",
       "      <td>21</td>\n",
       "      <td>jeddah</td>\n",
       "      <td>21.6319</td>\n",
       "      <td>39.1044</td>\n",
       "      <td>Saudi Arabia</td>\n",
       "      <td>2021-12-05</td>\n",
       "      <td>http://en.wikipedia.org/wiki/2021_Saudi_Arabia...</td>\n",
       "    </tr>\n",
       "    <tr>\n",
       "      <th>1056</th>\n",
       "      <td>2021</td>\n",
       "      <td>22</td>\n",
       "      <td>yas_marina</td>\n",
       "      <td>24.4672</td>\n",
       "      <td>54.6031</td>\n",
       "      <td>UAE</td>\n",
       "      <td>2021-12-12</td>\n",
       "      <td>http://en.wikipedia.org/wiki/2021_Abu_Dhabi_Gr...</td>\n",
       "    </tr>\n",
       "  </tbody>\n",
       "</table>\n",
       "</div>"
      ],
      "text/plain": [
       "      season  round  circuit_id      lat     long       country        date  \\\n",
       "1054    2021     20      losail  25.4900  51.4542         Qatar  2021-11-21   \n",
       "1055    2021     21      jeddah  21.6319  39.1044  Saudi Arabia  2021-12-05   \n",
       "1056    2021     22  yas_marina  24.4672  54.6031           UAE  2021-12-12   \n",
       "\n",
       "                                                    url  \n",
       "1054  http://en.wikipedia.org/wiki/2021_Qatar_Grand_...  \n",
       "1055  http://en.wikipedia.org/wiki/2021_Saudi_Arabia...  \n",
       "1056  http://en.wikipedia.org/wiki/2021_Abu_Dhabi_Gr...  "
      ]
     },
     "execution_count": 3,
     "metadata": {},
     "output_type": "execute_result"
    }
   ],
   "source": [
    "races.tail(3) # Check before exporting"
   ]
  },
  {
   "cell_type": "code",
   "execution_count": 1,
   "id": "4acd29d9",
   "metadata": {},
   "outputs": [
    {
     "ename": "NameError",
     "evalue": "name 'races' is not defined",
     "output_type": "error",
     "traceback": [
      "\u001b[1;31m---------------------------------------------------------------------------\u001b[0m",
      "\u001b[1;31mNameError\u001b[0m                                 Traceback (most recent call last)",
      "\u001b[1;32m<ipython-input-1-3edceacf79d5>\u001b[0m in \u001b[0;36m<module>\u001b[1;34m\u001b[0m\n\u001b[1;32m----> 1\u001b[1;33m \u001b[0mraces\u001b[0m\u001b[1;33m.\u001b[0m\u001b[0mto_csv\u001b[0m\u001b[1;33m(\u001b[0m\u001b[1;34m'data/races.csv'\u001b[0m\u001b[1;33m,\u001b[0m \u001b[0mindex\u001b[0m \u001b[1;33m=\u001b[0m \u001b[1;32mFalse\u001b[0m\u001b[1;33m)\u001b[0m\u001b[1;33m\u001b[0m\u001b[1;33m\u001b[0m\u001b[0m\n\u001b[0m",
      "\u001b[1;31mNameError\u001b[0m: name 'races' is not defined"
     ]
    }
   ],
   "source": [
    "races.to_csv('data/races.csv', index = False)"
   ]
  },
  {
   "cell_type": "markdown",
   "id": "582010a2",
   "metadata": {},
   "source": [
    "# 2. Rounds"
   ]
  },
  {
   "cell_type": "code",
   "execution_count": 5,
   "id": "87704ea4",
   "metadata": {},
   "outputs": [],
   "source": [
    "race = pd.read_csv('data/races.csv') "
   ]
  },
  {
   "cell_type": "code",
   "execution_count": 6,
   "id": "4c8b9624",
   "metadata": {},
   "outputs": [],
   "source": [
    "# Obtain the rounds in a list of lists where every item is a round/year with its respective races.\n",
    "\n",
    "rounds = []\n",
    "for year in np.array(race.season.unique()):\n",
    "    rounds.append([year, list(race[race.season == year]['round'])])"
   ]
  },
  {
   "cell_type": "code",
   "execution_count": 7,
   "id": "642f3059",
   "metadata": {},
   "outputs": [
    {
     "data": {
      "text/plain": [
       "[[1950, [1, 2, 3, 4, 5, 6, 7]],\n",
       " [1951, [1, 2, 3, 4, 5, 6, 7, 8]],\n",
       " [1952, [1, 2, 3, 4, 5, 6, 7, 8]],\n",
       " [1953, [1, 2, 3, 4, 5, 6, 7, 8, 9]],\n",
       " [1954, [1, 2, 3, 4, 5, 6, 7, 8, 9]],\n",
       " [1955, [1, 2, 3, 4, 5, 6, 7]],\n",
       " [1956, [1, 2, 3, 4, 5, 6, 7, 8]],\n",
       " [1957, [1, 2, 3, 4, 5, 6, 7, 8]],\n",
       " [1958, [1, 2, 3, 4, 5, 6, 7, 8, 9, 10, 11]],\n",
       " [1959, [1, 2, 3, 4, 5, 6, 7, 8, 9]],\n",
       " [1960, [1, 2, 3, 4, 5, 6, 7, 8, 9, 10]],\n",
       " [1961, [1, 2, 3, 4, 5, 6, 7, 8]],\n",
       " [1962, [1, 2, 3, 4, 5, 6, 7, 8, 9]],\n",
       " [1963, [1, 2, 3, 4, 5, 6, 7, 8, 9, 10]],\n",
       " [1964, [1, 2, 3, 4, 5, 6, 7, 8, 9, 10]],\n",
       " [1965, [1, 2, 3, 4, 5, 6, 7, 8, 9, 10]],\n",
       " [1966, [1, 2, 3, 4, 5, 6, 7, 8, 9]],\n",
       " [1967, [1, 2, 3, 4, 5, 6, 7, 8, 9, 10, 11]],\n",
       " [1968, [1, 2, 3, 4, 5, 6, 7, 8, 9, 10, 11, 12]],\n",
       " [1969, [1, 2, 3, 4, 5, 6, 7, 8, 9, 10, 11]],\n",
       " [1970, [1, 2, 3, 4, 5, 6, 7, 8, 9, 10, 11, 12, 13]],\n",
       " [1971, [1, 2, 3, 4, 5, 6, 7, 8, 9, 10, 11]],\n",
       " [1972, [1, 2, 3, 4, 5, 6, 7, 8, 9, 10, 11, 12]],\n",
       " [1973, [1, 2, 3, 4, 5, 6, 7, 8, 9, 10, 11, 12, 13, 14, 15]],\n",
       " [1974, [1, 2, 3, 4, 5, 6, 7, 8, 9, 10, 11, 12, 13, 14, 15]],\n",
       " [1975, [1, 2, 3, 4, 5, 6, 7, 8, 9, 10, 11, 12, 13, 14]],\n",
       " [1976, [1, 2, 3, 4, 5, 6, 7, 8, 9, 10, 11, 12, 13, 14, 15, 16]],\n",
       " [1977, [1, 2, 3, 4, 5, 6, 7, 8, 9, 10, 11, 12, 13, 14, 15, 16, 17]],\n",
       " [1978, [1, 2, 3, 4, 5, 6, 7, 8, 9, 10, 11, 12, 13, 14, 15, 16]],\n",
       " [1979, [1, 2, 3, 4, 5, 6, 7, 8, 9, 10, 11, 12, 13, 14, 15]],\n",
       " [1980, [1, 2, 3, 4, 5, 6, 7, 8, 9, 10, 11, 12, 13, 14]],\n",
       " [1981, [1, 2, 3, 4, 5, 6, 7, 8, 9, 10, 11, 12, 13, 14, 15]],\n",
       " [1982, [1, 2, 3, 4, 5, 6, 7, 8, 9, 10, 11, 12, 13, 14, 15, 16]],\n",
       " [1983, [1, 2, 3, 4, 5, 6, 7, 8, 9, 10, 11, 12, 13, 14, 15]],\n",
       " [1984, [1, 2, 3, 4, 5, 6, 7, 8, 9, 10, 11, 12, 13, 14, 15, 16]],\n",
       " [1985, [1, 2, 3, 4, 5, 6, 7, 8, 9, 10, 11, 12, 13, 14, 15, 16]],\n",
       " [1986, [1, 2, 3, 4, 5, 6, 7, 8, 9, 10, 11, 12, 13, 14, 15, 16]],\n",
       " [1987, [1, 2, 3, 4, 5, 6, 7, 8, 9, 10, 11, 12, 13, 14, 15, 16]],\n",
       " [1988, [1, 2, 3, 4, 5, 6, 7, 8, 9, 10, 11, 12, 13, 14, 15, 16]],\n",
       " [1989, [1, 2, 3, 4, 5, 6, 7, 8, 9, 10, 11, 12, 13, 14, 15, 16]],\n",
       " [1990, [1, 2, 3, 4, 5, 6, 7, 8, 9, 10, 11, 12, 13, 14, 15, 16]],\n",
       " [1991, [1, 2, 3, 4, 5, 6, 7, 8, 9, 10, 11, 12, 13, 14, 15, 16]],\n",
       " [1992, [1, 2, 3, 4, 5, 6, 7, 8, 9, 10, 11, 12, 13, 14, 15, 16]],\n",
       " [1993, [1, 2, 3, 4, 5, 6, 7, 8, 9, 10, 11, 12, 13, 14, 15, 16]],\n",
       " [1994, [1, 2, 3, 4, 5, 6, 7, 8, 9, 10, 11, 12, 13, 14, 15, 16]],\n",
       " [1995, [1, 2, 3, 4, 5, 6, 7, 8, 9, 10, 11, 12, 13, 14, 15, 16, 17]],\n",
       " [1996, [1, 2, 3, 4, 5, 6, 7, 8, 9, 10, 11, 12, 13, 14, 15, 16]],\n",
       " [1997, [1, 2, 3, 4, 5, 6, 7, 8, 9, 10, 11, 12, 13, 14, 15, 16, 17]],\n",
       " [1998, [1, 2, 3, 4, 5, 6, 7, 8, 9, 10, 11, 12, 13, 14, 15, 16]],\n",
       " [1999, [1, 2, 3, 4, 5, 6, 7, 8, 9, 10, 11, 12, 13, 14, 15, 16]],\n",
       " [2000, [1, 2, 3, 4, 5, 6, 7, 8, 9, 10, 11, 12, 13, 14, 15, 16, 17]],\n",
       " [2001, [1, 2, 3, 4, 5, 6, 7, 8, 9, 10, 11, 12, 13, 14, 15, 16, 17]],\n",
       " [2002, [1, 2, 3, 4, 5, 6, 7, 8, 9, 10, 11, 12, 13, 14, 15, 16, 17]],\n",
       " [2003, [1, 2, 3, 4, 5, 6, 7, 8, 9, 10, 11, 12, 13, 14, 15, 16]],\n",
       " [2004, [1, 2, 3, 4, 5, 6, 7, 8, 9, 10, 11, 12, 13, 14, 15, 16, 17, 18]],\n",
       " [2005, [1, 2, 3, 4, 5, 6, 7, 8, 9, 10, 11, 12, 13, 14, 15, 16, 17, 18, 19]],\n",
       " [2006, [1, 2, 3, 4, 5, 6, 7, 8, 9, 10, 11, 12, 13, 14, 15, 16, 17, 18]],\n",
       " [2007, [1, 2, 3, 4, 5, 6, 7, 8, 9, 10, 11, 12, 13, 14, 15, 16, 17]],\n",
       " [2008, [1, 2, 3, 4, 5, 6, 7, 8, 9, 10, 11, 12, 13, 14, 15, 16, 17, 18]],\n",
       " [2009, [1, 2, 3, 4, 5, 6, 7, 8, 9, 10, 11, 12, 13, 14, 15, 16, 17]],\n",
       " [2010, [1, 2, 3, 4, 5, 6, 7, 8, 9, 10, 11, 12, 13, 14, 15, 16, 17, 18, 19]],\n",
       " [2011, [1, 2, 3, 4, 5, 6, 7, 8, 9, 10, 11, 12, 13, 14, 15, 16, 17, 18, 19]],\n",
       " [2012,\n",
       "  [1, 2, 3, 4, 5, 6, 7, 8, 9, 10, 11, 12, 13, 14, 15, 16, 17, 18, 19, 20]],\n",
       " [2013, [1, 2, 3, 4, 5, 6, 7, 8, 9, 10, 11, 12, 13, 14, 15, 16, 17, 18, 19]],\n",
       " [2014, [1, 2, 3, 4, 5, 6, 7, 8, 9, 10, 11, 12, 13, 14, 15, 16, 17, 18, 19]],\n",
       " [2015, [1, 2, 3, 4, 5, 6, 7, 8, 9, 10, 11, 12, 13, 14, 15, 16, 17, 18, 19]],\n",
       " [2016,\n",
       "  [1, 2, 3, 4, 5, 6, 7, 8, 9, 10, 11, 12, 13, 14, 15, 16, 17, 18, 19, 20, 21]],\n",
       " [2017,\n",
       "  [1, 2, 3, 4, 5, 6, 7, 8, 9, 10, 11, 12, 13, 14, 15, 16, 17, 18, 19, 20]],\n",
       " [2018,\n",
       "  [1, 2, 3, 4, 5, 6, 7, 8, 9, 10, 11, 12, 13, 14, 15, 16, 17, 18, 19, 20, 21]],\n",
       " [2019,\n",
       "  [1, 2, 3, 4, 5, 6, 7, 8, 9, 10, 11, 12, 13, 14, 15, 16, 17, 18, 19, 20, 21]],\n",
       " [2020, [1, 2, 3, 4, 5, 6, 7, 8, 9, 10, 11, 12, 13, 14, 15, 16, 17]],\n",
       " [2021,\n",
       "  [1,\n",
       "   2,\n",
       "   3,\n",
       "   4,\n",
       "   5,\n",
       "   6,\n",
       "   7,\n",
       "   8,\n",
       "   9,\n",
       "   10,\n",
       "   11,\n",
       "   12,\n",
       "   13,\n",
       "   14,\n",
       "   15,\n",
       "   16,\n",
       "   17,\n",
       "   18,\n",
       "   19,\n",
       "   20,\n",
       "   21,\n",
       "   22]]]"
      ]
     },
     "execution_count": 7,
     "metadata": {},
     "output_type": "execute_result"
    }
   ],
   "source": [
    "rounds[:] # 1950 to 2021 (the most up to date now)"
   ]
  },
  {
   "cell_type": "markdown",
   "id": "eb863617",
   "metadata": {},
   "source": [
    "# 3. Results"
   ]
  },
  {
   "cell_type": "code",
   "execution_count": 8,
   "id": "fc50d7dc",
   "metadata": {},
   "outputs": [
    {
     "name": "stdout",
     "output_type": "stream",
     "text": [
      "(24947, 13)\n"
     ]
    }
   ],
   "source": [
    "results = {'season': [],\n",
    "          'round':[],\n",
    "           'circuit_id':[],\n",
    "          'driver': [],\n",
    "           'date_of_birth': [],\n",
    "           'nationality': [],\n",
    "          'constructor': [],\n",
    "          'grid': [],\n",
    "          'time': [],\n",
    "          'status': [],\n",
    "          'points': [],\n",
    "          'podium': [],\n",
    "          'url': []}\n",
    "\n",
    "for n in list(range(len(rounds))):\n",
    "    for i in rounds[n][1]:\n",
    "    \n",
    "        url = 'http://ergast.com/api/f1/{}/{}/results.json'\n",
    "        r = requests.get(url.format(rounds[n][0], i))\n",
    "        json = r.json()\n",
    "\n",
    "        for item in json['MRData']['RaceTable']['Races'][0]['Results']:\n",
    "            try:\n",
    "                results['season'].append(int(json['MRData']['RaceTable']['Races'][0]['season']))\n",
    "            except:\n",
    "                results['season'].append(None)\n",
    "\n",
    "            try:\n",
    "                results['round'].append(int(json['MRData']['RaceTable']['Races'][0]['round']))\n",
    "            except:\n",
    "                results['round'].append(None)\n",
    "\n",
    "            try:\n",
    "                results['circuit_id'].append(json['MRData']['RaceTable']['Races'][0]['Circuit']['circuitId'])\n",
    "            except:\n",
    "                results['circuit_id'].append(None)\n",
    "\n",
    "            try:\n",
    "                results['driver'].append(item['Driver']['driverId'])\n",
    "            except:\n",
    "                results['driver'].append(None)\n",
    "            \n",
    "            try:\n",
    "                results['date_of_birth'].append(item['Driver']['dateOfBirth'])\n",
    "            except:\n",
    "                results['date_of_birth'].append(None)\n",
    "                \n",
    "            try:\n",
    "                results['nationality'].append(item['Driver']['nationality'])\n",
    "            except:\n",
    "                results['nationality'].append(None)\n",
    "\n",
    "            try:\n",
    "                results['constructor'].append(item['Constructor']['constructorId'])\n",
    "            except:\n",
    "                results['constructor'].append(None)\n",
    "\n",
    "            try:\n",
    "                results['grid'].append(int(item['grid']))\n",
    "            except:\n",
    "                results['grid'].append(None)\n",
    "\n",
    "            try:\n",
    "                results['time'].append(int(item['Time']['millis']))\n",
    "            except:\n",
    "                results['time'].append(None)\n",
    "\n",
    "            try:\n",
    "                results['status'].append(item['status'])\n",
    "            except:\n",
    "                results['status'].append(None)\n",
    "\n",
    "            try:\n",
    "                results['points'].append(int(item['points']))\n",
    "            except:\n",
    "                results['points'].append(None)\n",
    "\n",
    "            try:\n",
    "                results['podium'].append(int(item['position']))\n",
    "            except:\n",
    "                results['podium'].append(None)\n",
    "\n",
    "            try:\n",
    "                results['url'].append(json['MRData']['RaceTable']['Races'][0]['url'])\n",
    "            except:\n",
    "                results['url'].append(None)\n",
    "\n",
    "results = pd.DataFrame(results)\n",
    "print(results.shape)"
   ]
  },
  {
   "cell_type": "raw",
   "id": "a662d5ff",
   "metadata": {},
   "source": [
    "results.tail(3)"
   ]
  },
  {
   "cell_type": "code",
   "execution_count": 9,
   "id": "f638b712",
   "metadata": {},
   "outputs": [],
   "source": [
    "results.to_csv('data/results.csv', index = False)"
   ]
  },
  {
   "cell_type": "markdown",
   "id": "d68d63f7",
   "metadata": {},
   "source": [
    "# 4. Drivers Championship"
   ]
  },
  {
   "cell_type": "code",
   "execution_count": 10,
   "id": "70a6631e",
   "metadata": {},
   "outputs": [
    {
     "name": "stdout",
     "output_type": "stream",
     "text": [
      "(27113, 6)\n"
     ]
    }
   ],
   "source": [
    "driver_standings = {'season': [],\n",
    "                    'round':[],\n",
    "                    'driver': [],\n",
    "                    'driver_points': [],\n",
    "                    'driver_wins': [],\n",
    "                   'driver_standings_pos': []}\n",
    "\n",
    "for n in list(range(len(rounds))):\n",
    "    for i in rounds[n][1]:\n",
    "    \n",
    "        url = 'https://ergast.com/api/f1/{}/{}/driverStandings.json'\n",
    "        r = requests.get(url.format(rounds[n][0], i))\n",
    "        json = r.json()\n",
    "\n",
    "        for item in json['MRData']['StandingsTable']['StandingsLists'][0]['DriverStandings']:\n",
    "            try:\n",
    "                driver_standings['season'].append(int(json['MRData']['StandingsTable']['StandingsLists'][0]['season']))\n",
    "            except:\n",
    "                driver_standings['season'].append(None)\n",
    "\n",
    "            try:\n",
    "                driver_standings['round'].append(int(json['MRData']['StandingsTable']['StandingsLists'][0]['round']))\n",
    "            except:\n",
    "                driver_standings['round'].append(None)\n",
    "                                         \n",
    "            try:\n",
    "                driver_standings['driver'].append(item['Driver']['driverId'])\n",
    "            except:\n",
    "                driver_standings['driver'].append(None)\n",
    "            \n",
    "            try:\n",
    "                driver_standings['driver_points'].append(int(item['points']))\n",
    "            except:\n",
    "                driver_standings['driver_points'].append(None)\n",
    "            \n",
    "            try:\n",
    "                driver_standings['driver_wins'].append(int(item['wins']))\n",
    "            except:\n",
    "                driver_standings['driver_wins'].append(None)\n",
    "                \n",
    "            try:\n",
    "                driver_standings['driver_standings_pos'].append(int(item['position']))\n",
    "            except:\n",
    "                driver_standings['driver_standings_pos'].append(None)\n",
    "            \n",
    "driver_standings = pd.DataFrame(driver_standings)\n",
    "print(driver_standings.shape)"
   ]
  },
  {
   "cell_type": "markdown",
   "id": "25a1f6a0",
   "metadata": {},
   "source": [
    "### point_shift function"
   ]
  },
  {
   "cell_type": "markdown",
   "id": "bf7c6b5a",
   "metadata": {},
   "source": [
    "Because the points are awarded after the race, we needed a 'point_shift' function to shift the points from previous races within the same Championship. We want to know the points the driver earned on the current race, not those he earned on the races before."
   ]
  },
  {
   "cell_type": "code",
   "execution_count": 11,
   "id": "26df2da9",
   "metadata": {},
   "outputs": [],
   "source": [
    "def point_shift (df, driver_or_team, points):\n",
    "    df['lookup1'] = df.season.astype(str) + df[driver_or_team] + df['round'].astype(str) # current round\n",
    "    df['lookup2'] = df.season.astype(str) + df[driver_or_team] + (df['round']-1).astype(str) # previous round\n",
    "    new_df = df.merge(df[['lookup1', points]], how = 'left', left_on='lookup2',right_on='lookup1') # shifted one round\n",
    "    new_df.drop(['lookup1_x', 'lookup2', 'lookup1_y'], axis = 1, inplace = True) # drop unnecessary columns\n",
    "    new_df.rename(columns = {points+'_x': points+'_after_race', points+'_y': points}, inplace = True) # rename before/after race\n",
    "    new_df[points].fillna(0, inplace = True)\n",
    "    return new_df"
   ]
  },
  {
   "cell_type": "code",
   "execution_count": 12,
   "id": "9819de55",
   "metadata": {
    "scrolled": true
   },
   "outputs": [
    {
     "data": {
      "text/html": [
       "<div>\n",
       "<style scoped>\n",
       "    .dataframe tbody tr th:only-of-type {\n",
       "        vertical-align: middle;\n",
       "    }\n",
       "\n",
       "    .dataframe tbody tr th {\n",
       "        vertical-align: top;\n",
       "    }\n",
       "\n",
       "    .dataframe thead th {\n",
       "        text-align: right;\n",
       "    }\n",
       "</style>\n",
       "<table border=\"1\" class=\"dataframe\">\n",
       "  <thead>\n",
       "    <tr style=\"text-align: right;\">\n",
       "      <th></th>\n",
       "      <th>season</th>\n",
       "      <th>round</th>\n",
       "      <th>driver</th>\n",
       "      <th>driver_points</th>\n",
       "      <th>driver_wins</th>\n",
       "      <th>driver_standings_pos</th>\n",
       "    </tr>\n",
       "  </thead>\n",
       "  <tbody>\n",
       "    <tr>\n",
       "      <th>27110</th>\n",
       "      <td>2021</td>\n",
       "      <td>22</td>\n",
       "      <td>mick_schumacher</td>\n",
       "      <td>0.0</td>\n",
       "      <td>0</td>\n",
       "      <td>19</td>\n",
       "    </tr>\n",
       "    <tr>\n",
       "      <th>27111</th>\n",
       "      <td>2021</td>\n",
       "      <td>22</td>\n",
       "      <td>kubica</td>\n",
       "      <td>0.0</td>\n",
       "      <td>0</td>\n",
       "      <td>20</td>\n",
       "    </tr>\n",
       "    <tr>\n",
       "      <th>27112</th>\n",
       "      <td>2021</td>\n",
       "      <td>22</td>\n",
       "      <td>mazepin</td>\n",
       "      <td>0.0</td>\n",
       "      <td>0</td>\n",
       "      <td>21</td>\n",
       "    </tr>\n",
       "  </tbody>\n",
       "</table>\n",
       "</div>"
      ],
      "text/plain": [
       "       season  round           driver  driver_points  driver_wins  \\\n",
       "27110    2021     22  mick_schumacher            0.0            0   \n",
       "27111    2021     22           kubica            0.0            0   \n",
       "27112    2021     22          mazepin            0.0            0   \n",
       "\n",
       "       driver_standings_pos  \n",
       "27110                    19  \n",
       "27111                    20  \n",
       "27112                    21  "
      ]
     },
     "execution_count": 12,
     "metadata": {},
     "output_type": "execute_result"
    }
   ],
   "source": [
    "driver_standings.tail(3)"
   ]
  },
  {
   "cell_type": "code",
   "execution_count": 13,
   "id": "ed42e630",
   "metadata": {},
   "outputs": [
    {
     "data": {
      "text/html": [
       "<div>\n",
       "<style scoped>\n",
       "    .dataframe tbody tr th:only-of-type {\n",
       "        vertical-align: middle;\n",
       "    }\n",
       "\n",
       "    .dataframe tbody tr th {\n",
       "        vertical-align: top;\n",
       "    }\n",
       "\n",
       "    .dataframe thead th {\n",
       "        text-align: right;\n",
       "    }\n",
       "</style>\n",
       "<table border=\"1\" class=\"dataframe\">\n",
       "  <thead>\n",
       "    <tr style=\"text-align: right;\">\n",
       "      <th></th>\n",
       "      <th>season</th>\n",
       "      <th>round</th>\n",
       "      <th>driver</th>\n",
       "      <th>driver_points_after_race</th>\n",
       "      <th>driver_wins_after_race</th>\n",
       "      <th>driver_standings_pos_after_race</th>\n",
       "      <th>driver_points</th>\n",
       "      <th>driver_wins</th>\n",
       "      <th>driver_standings_pos</th>\n",
       "    </tr>\n",
       "  </thead>\n",
       "  <tbody>\n",
       "    <tr>\n",
       "      <th>27110</th>\n",
       "      <td>2021</td>\n",
       "      <td>22</td>\n",
       "      <td>mick_schumacher</td>\n",
       "      <td>0.0</td>\n",
       "      <td>0</td>\n",
       "      <td>19</td>\n",
       "      <td>0.0</td>\n",
       "      <td>0.0</td>\n",
       "      <td>19.0</td>\n",
       "    </tr>\n",
       "    <tr>\n",
       "      <th>27111</th>\n",
       "      <td>2021</td>\n",
       "      <td>22</td>\n",
       "      <td>kubica</td>\n",
       "      <td>0.0</td>\n",
       "      <td>0</td>\n",
       "      <td>20</td>\n",
       "      <td>0.0</td>\n",
       "      <td>0.0</td>\n",
       "      <td>20.0</td>\n",
       "    </tr>\n",
       "    <tr>\n",
       "      <th>27112</th>\n",
       "      <td>2021</td>\n",
       "      <td>22</td>\n",
       "      <td>mazepin</td>\n",
       "      <td>0.0</td>\n",
       "      <td>0</td>\n",
       "      <td>21</td>\n",
       "      <td>0.0</td>\n",
       "      <td>0.0</td>\n",
       "      <td>21.0</td>\n",
       "    </tr>\n",
       "  </tbody>\n",
       "</table>\n",
       "</div>"
      ],
      "text/plain": [
       "       season  round           driver  driver_points_after_race  \\\n",
       "27110    2021     22  mick_schumacher                       0.0   \n",
       "27111    2021     22           kubica                       0.0   \n",
       "27112    2021     22          mazepin                       0.0   \n",
       "\n",
       "       driver_wins_after_race  driver_standings_pos_after_race  driver_points  \\\n",
       "27110                       0                               19            0.0   \n",
       "27111                       0                               20            0.0   \n",
       "27112                       0                               21            0.0   \n",
       "\n",
       "       driver_wins  driver_standings_pos  \n",
       "27110          0.0                  19.0  \n",
       "27111          0.0                  20.0  \n",
       "27112          0.0                  21.0  "
      ]
     },
     "execution_count": 13,
     "metadata": {},
     "output_type": "execute_result"
    }
   ],
   "source": [
    "# shift the driver points\n",
    "\n",
    "driver_standings = point_shift(driver_standings, 'driver', 'driver_points')\n",
    "driver_standings = point_shift(driver_standings, 'driver', 'driver_wins')\n",
    "driver_standings = point_shift(driver_standings, 'driver', 'driver_standings_pos')\n",
    "driver_standings.tail(3)"
   ]
  },
  {
   "cell_type": "code",
   "execution_count": 14,
   "id": "b04664e8",
   "metadata": {},
   "outputs": [],
   "source": [
    "driver_standings.to_csv('data/driver_standings.csv', index = False)"
   ]
  },
  {
   "cell_type": "markdown",
   "id": "3fac140e",
   "metadata": {},
   "source": [
    "# 5. Constructors Championship"
   ]
  },
  {
   "cell_type": "code",
   "execution_count": 15,
   "id": "ac3eb0d2",
   "metadata": {},
   "outputs": [
    {
     "name": "stdout",
     "output_type": "stream",
     "text": [
      "(12711, 6)\n"
     ]
    }
   ],
   "source": [
    "# start from year 1958 because there is no data prior to that.\n",
    "\n",
    "constructor_rounds = rounds[8:]\n",
    "\n",
    "constructor_standings = {'season': [],\n",
    "                    'round':[],\n",
    "                    'constructor': [],\n",
    "                    'constructor_points': [],\n",
    "                    'constructor_wins': [],\n",
    "                   'constructor_standings_pos': []}\n",
    "\n",
    "for n in list(range(len(constructor_rounds))):\n",
    "    for i in constructor_rounds[n][1]:\n",
    "    \n",
    "        url = 'https://ergast.com/api/f1/{}/{}/constructorStandings.json'\n",
    "        r = requests.get(url.format(constructor_rounds[n][0], i))\n",
    "        json = r.json()\n",
    "\n",
    "        for item in json['MRData']['StandingsTable']['StandingsLists'][0]['ConstructorStandings']:\n",
    "            try:\n",
    "                constructor_standings['season'].append(int(json['MRData']['StandingsTable']['StandingsLists'][0]['season']))\n",
    "            except:\n",
    "                constructor_standings['season'].append(None)\n",
    "\n",
    "            try:\n",
    "                constructor_standings['round'].append(int(json['MRData']['StandingsTable']['StandingsLists'][0]['round']))\n",
    "            except:\n",
    "                constructor_standings['round'].append(None)\n",
    "                                         \n",
    "            try:\n",
    "                constructor_standings['constructor'].append(item['Constructor']['constructorId'])\n",
    "            except:\n",
    "                constructor_standings['constructor'].append(None)\n",
    "            \n",
    "            try:\n",
    "                constructor_standings['constructor_points'].append(int(item['points']))\n",
    "            except:\n",
    "                constructor_standings['constructor_points'].append(None)\n",
    "            \n",
    "            try:\n",
    "                constructor_standings['constructor_wins'].append(int(item['wins']))\n",
    "            except:\n",
    "                constructor_standings['constructor_wins'].append(None)\n",
    "                \n",
    "            try:\n",
    "                constructor_standings['constructor_standings_pos'].append(int(item['position']))\n",
    "            except:\n",
    "                constructor_standings['constructor_standings_pos'].append(None)\n",
    "            \n",
    "constructor_standings = pd.DataFrame(constructor_standings)\n",
    "print(constructor_standings.shape)"
   ]
  },
  {
   "cell_type": "code",
   "execution_count": 16,
   "id": "526de378",
   "metadata": {},
   "outputs": [
    {
     "data": {
      "text/html": [
       "<div>\n",
       "<style scoped>\n",
       "    .dataframe tbody tr th:only-of-type {\n",
       "        vertical-align: middle;\n",
       "    }\n",
       "\n",
       "    .dataframe tbody tr th {\n",
       "        vertical-align: top;\n",
       "    }\n",
       "\n",
       "    .dataframe thead th {\n",
       "        text-align: right;\n",
       "    }\n",
       "</style>\n",
       "<table border=\"1\" class=\"dataframe\">\n",
       "  <thead>\n",
       "    <tr style=\"text-align: right;\">\n",
       "      <th></th>\n",
       "      <th>season</th>\n",
       "      <th>round</th>\n",
       "      <th>constructor</th>\n",
       "      <th>constructor_points_after_race</th>\n",
       "      <th>constructor_wins_after_race</th>\n",
       "      <th>constructor_standings_pos_after_race</th>\n",
       "      <th>constructor_points</th>\n",
       "      <th>constructor_wins</th>\n",
       "      <th>constructor_standings_pos</th>\n",
       "    </tr>\n",
       "  </thead>\n",
       "  <tbody>\n",
       "    <tr>\n",
       "      <th>12708</th>\n",
       "      <td>2021</td>\n",
       "      <td>22</td>\n",
       "      <td>williams</td>\n",
       "      <td>23.0</td>\n",
       "      <td>0</td>\n",
       "      <td>8</td>\n",
       "      <td>23.0</td>\n",
       "      <td>0.0</td>\n",
       "      <td>8.0</td>\n",
       "    </tr>\n",
       "    <tr>\n",
       "      <th>12709</th>\n",
       "      <td>2021</td>\n",
       "      <td>22</td>\n",
       "      <td>alfa</td>\n",
       "      <td>13.0</td>\n",
       "      <td>0</td>\n",
       "      <td>9</td>\n",
       "      <td>13.0</td>\n",
       "      <td>0.0</td>\n",
       "      <td>9.0</td>\n",
       "    </tr>\n",
       "    <tr>\n",
       "      <th>12710</th>\n",
       "      <td>2021</td>\n",
       "      <td>22</td>\n",
       "      <td>haas</td>\n",
       "      <td>0.0</td>\n",
       "      <td>0</td>\n",
       "      <td>10</td>\n",
       "      <td>0.0</td>\n",
       "      <td>0.0</td>\n",
       "      <td>10.0</td>\n",
       "    </tr>\n",
       "  </tbody>\n",
       "</table>\n",
       "</div>"
      ],
      "text/plain": [
       "       season  round constructor  constructor_points_after_race  \\\n",
       "12708    2021     22    williams                           23.0   \n",
       "12709    2021     22        alfa                           13.0   \n",
       "12710    2021     22        haas                            0.0   \n",
       "\n",
       "       constructor_wins_after_race  constructor_standings_pos_after_race  \\\n",
       "12708                            0                                     8   \n",
       "12709                            0                                     9   \n",
       "12710                            0                                    10   \n",
       "\n",
       "       constructor_points  constructor_wins  constructor_standings_pos  \n",
       "12708                23.0               0.0                        8.0  \n",
       "12709                13.0               0.0                        9.0  \n",
       "12710                 0.0               0.0                       10.0  "
      ]
     },
     "execution_count": 16,
     "metadata": {},
     "output_type": "execute_result"
    }
   ],
   "source": [
    "# Again, using the point_shift function for constructor points\n",
    "\n",
    "constructor_standings = point_shift(constructor_standings, 'constructor', 'constructor_points')\n",
    "constructor_standings = point_shift(constructor_standings, 'constructor', 'constructor_wins')\n",
    "constructor_standings = point_shift(constructor_standings, 'constructor', 'constructor_standings_pos')\n",
    "constructor_standings.tail(3)"
   ]
  },
  {
   "cell_type": "code",
   "execution_count": 17,
   "id": "597f1ba2",
   "metadata": {},
   "outputs": [],
   "source": [
    "constructor_standings.to_csv('data/constructor_standings.csv', index = False)"
   ]
  },
  {
   "cell_type": "markdown",
   "id": "8738bdda",
   "metadata": {},
   "source": [
    "# 6. Qualifying"
   ]
  },
  {
   "cell_type": "code",
   "execution_count": null,
   "id": "16bc63a6",
   "metadata": {},
   "outputs": [],
   "source": [
    "qualifying_results = pd.DataFrame()\n",
    "\n",
    "# Qualifying times are only available from 1983\n",
    "\n",
    "for year in list(range(2020,2022)):\n",
    "    url = 'https://www.formula1.com/en/results.html/{}/races.html'\n",
    "    r = requests.get(url.format(year))\n",
    "    soup = BeautifulSoup(r.text, 'html.parser')\n",
    "    \n",
    "    # find links to all circuits for a given year\n",
    "    \n",
    "    year_links = []\n",
    "    for page in soup.find_all('a', attrs = {'class':\"resultsarchive-filter-item-link FilterTrigger\"}):\n",
    "        link = page.get('href')\n",
    "        if f'/en/results.html/{year}/races/' in link: \n",
    "            year_links.append(link)\n",
    "            \n",
    "    # for each circuit, switch to the starting grid page and read table        \n",
    "\n",
    "    year_df = pd.DataFrame()\n",
    "    new_url = 'https://www.formula1.com{}'\n",
    "    for n, link in list(enumerate(year_links)):\n",
    "        link = link.replace('race-result.html', 'starting-grid.html')\n",
    "        df = pd.read_html(new_url.format(link))\n",
    "        df = df[0]\n",
    "        df['season'] = year\n",
    "        df['round'] = n+1\n",
    "        for col in df:\n",
    "            if 'Unnamed' in col:\n",
    "                df.drop(col, axis = 1, inplace = True)\n",
    "        \n",
    "        # concatenate all tables from all years \n",
    "        \n",
    "        year_df = pd.concat([year_df, df])\n",
    "\n",
    "    qualifying_results = pd.concat([qualifying_results, year_df])\n",
    "    \n",
    "print(qualifying_results.shape)"
   ]
  },
  {
   "cell_type": "code",
   "execution_count": null,
   "id": "582a7032",
   "metadata": {
    "scrolled": true
   },
   "outputs": [],
   "source": [
    "qualifying_results.tail(3)"
   ]
  },
  {
   "cell_type": "code",
   "execution_count": null,
   "id": "ba21e6be",
   "metadata": {},
   "outputs": [],
   "source": [
    "qualifying_results.rename(columns = {'Pos': 'grid_position', 'Driver': 'driver_name', 'Car': 'car',\n",
    "                                     'Time': 'qualifying_time'}, inplace = True)\n",
    "\n",
    "qualifying_results.drop('No', axis = 1, inplace = True) # driver number is useless because it is just an \"arbitrary\" number"
   ]
  },
  {
   "cell_type": "code",
   "execution_count": null,
   "id": "90e3884e",
   "metadata": {},
   "outputs": [],
   "source": [
    "qualifying_results.to_csv('data/qualifying.csv', index = False)"
   ]
  },
  {
   "cell_type": "markdown",
   "id": "6f706c9e",
   "metadata": {},
   "source": [
    "# 7. Weather"
   ]
  },
  {
   "cell_type": "code",
   "execution_count": null,
   "id": "1ce30905",
   "metadata": {},
   "outputs": [],
   "source": [
    "races = pd.read_csv('data/races.csv')\n",
    "races.tail(3)"
   ]
  },
  {
   "cell_type": "code",
   "execution_count": null,
   "id": "bd60877c",
   "metadata": {
    "scrolled": false
   },
   "outputs": [],
   "source": [
    "weather = races.iloc[:,[0,1,2]]\n",
    "weather.tail(3)"
   ]
  },
  {
   "cell_type": "code",
   "execution_count": null,
   "id": "eb624f39",
   "metadata": {},
   "outputs": [],
   "source": [
    "info = []\n",
    "\n",
    "for link in races.url:\n",
    "    try:\n",
    "        df = pd.read_html(link)[0]\n",
    "        if 'Weather' in list(df.iloc[:,0]):\n",
    "            n = list(df.iloc[:,0]).index('Weather')\n",
    "            info.append(df.iloc[n,1])\n",
    "        else:\n",
    "            df = pd.read_html(link)[1]\n",
    "            if 'Weather' in list(df.iloc[:,0]):\n",
    "                n = list(df.iloc[:,0]).index('Weather')\n",
    "                info.append(df.iloc[n,1])\n",
    "            else:\n",
    "                df = pd.read_html(link)[2]\n",
    "                if 'Weather' in list(df.iloc[:,0]):\n",
    "                    n = list(df.iloc[:,0]).index('Weather')\n",
    "                    info.append(df.iloc[n,1])\n",
    "                else:\n",
    "                    df = pd.read_html(link)[3]\n",
    "                    if 'Weather' in list(df.iloc[:,0]):\n",
    "                        n = list(df.iloc[:,0]).index('Weather')\n",
    "                        info.append(df.iloc[n,1])\n",
    "                    else:\n",
    "                        driver = webdriver.Chrome()\n",
    "                        driver.get(link)\n",
    "\n",
    "                        # click language button\n",
    "                        button = driver.find_element_by_link_text('Italiano')\n",
    "                        button.click()\n",
    "                        \n",
    "                        clima = driver.find_element_by_xpath('//*[@id=\"mw-content-text\"]/div/table[1]/tbody/tr[9]/td').text\n",
    "                        info.append(clima) \n",
    "                                \n",
    "    except:\n",
    "        info.append('not found')"
   ]
  },
  {
   "cell_type": "code",
   "execution_count": null,
   "id": "db18d771",
   "metadata": {},
   "outputs": [],
   "source": [
    "len(info)"
   ]
  },
  {
   "cell_type": "code",
   "execution_count": null,
   "id": "b38ea641",
   "metadata": {},
   "outputs": [],
   "source": [
    "weather['weather'] = info"
   ]
  },
  {
   "cell_type": "code",
   "execution_count": null,
   "id": "28cb616e",
   "metadata": {},
   "outputs": [],
   "source": [
    "weather.tail(3)"
   ]
  },
  {
   "cell_type": "code",
   "execution_count": null,
   "id": "42c664f3",
   "metadata": {},
   "outputs": [],
   "source": [
    "# Fixing some missing weather labels\n",
    "\n",
    "weather_dict = {'weather_warm': ['soleggiato', 'clear', 'warm', 'hot', 'sunny', 'fine', 'mild', 'sereno', 'Sunny and hot', 'Hot, dry, sunny', 'Sunny and warm', 'Warm, dry, sunny', 'Sunny[2]', 'Warm and sunny', 'Sunny, hot','Very hot, dry, sunny'],\n",
    "               'weather_cold': ['cold', 'fresh', 'chilly', 'cool'],\n",
    "               'weather_dry': ['dry', 'asciutto', 'Clear', 'Mainly sunny', 'Fine', 'Wet at start, dry later', 'Sunny, mild, dry', 'Dry and sunny'],\n",
    "               'weather_wet': ['showers', 'wet', 'rain', 'pioggia', 'damp', 'thunderstorms', 'rainy', 'Rain', 'Overcast with intermittent rain'],\n",
    "               'weather_cloudy': ['overcast', 'nuvoloso', 'clouds', 'cloudy', 'grey', 'coperto', 'Mainly cloudy, dry', 'Cloudy, dry', 'Overcast, mild, dry']}\n",
    "\n",
    "weather_df = pd.DataFrame(columns = weather_dict.keys()) # convert into a df\n",
    "\n",
    "for col in weather_df: # create duumy variables for all of the 5 categories.\n",
    "    weather_df[col] = weather['weather'].map(lambda x: 1 if any(i in weather_dict[col] for i in x.lower().split()) else 0)"
   ]
  },
  {
   "cell_type": "code",
   "execution_count": null,
   "id": "91289199",
   "metadata": {},
   "outputs": [],
   "source": [
    "weather_info = pd.concat([weather, weather_df], axis = 1)"
   ]
  },
  {
   "cell_type": "code",
   "execution_count": null,
   "id": "e51a633c",
   "metadata": {
    "scrolled": true
   },
   "outputs": [],
   "source": [
    "weather_info.tail(3) # Check before exporting"
   ]
  },
  {
   "cell_type": "code",
   "execution_count": null,
   "id": "27e26220",
   "metadata": {},
   "outputs": [],
   "source": [
    "weather_info.to_csv('data/weather.csv', index= False)"
   ]
  },
  {
   "cell_type": "markdown",
   "id": "07ba0c9f",
   "metadata": {},
   "source": [
    "## Next step: Data Preprocessing "
   ]
  }
 ],
 "metadata": {
  "kernelspec": {
   "display_name": "Python 3.9.7 ('pythonProject')",
   "language": "python",
   "name": "python3"
  },
  "language_info": {
   "codemirror_mode": {
    "name": "ipython",
    "version": 3
   },
   "file_extension": ".py",
   "mimetype": "text/x-python",
   "name": "python",
   "nbconvert_exporter": "python",
   "pygments_lexer": "ipython3",
   "version": "3.9.7"
  },
  "vscode": {
   "interpreter": {
    "hash": "be326176f1860ecec032b2d370b4985588c42454c06063bc47efcf5146e75e12"
   }
  }
 },
 "nbformat": 4,
 "nbformat_minor": 5
}
